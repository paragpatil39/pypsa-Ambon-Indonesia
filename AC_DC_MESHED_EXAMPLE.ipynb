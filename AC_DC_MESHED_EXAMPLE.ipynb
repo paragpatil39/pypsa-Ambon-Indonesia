{
 "cells": [
  {
   "cell_type": "code",
   "execution_count": 1,
   "metadata": {},
   "outputs": [
    {
     "name": "stderr",
     "output_type": "stream",
     "text": [
      "c:\\Users\\parag\\miniconda3\\lib\\site-packages\\requests\\__init__.py:102: RequestsDependencyWarning: urllib3 (1.26.7) or chardet (5.0.0)/charset_normalizer (2.0.4) doesn't match a supported version!\n",
      "  warnings.warn(\"urllib3 ({}) or chardet ({})/charset_normalizer ({}) doesn't match a supported \"\n"
     ]
    }
   ],
   "source": [
    "import pandas as pd\n",
    "import numpy as np\n",
    "import pypsa\n",
    "import cartopy.crs as ccrs\n",
    "import os\n",
    "import matplotlib.pyplot as plt"
   ]
  },
  {
   "cell_type": "code",
   "execution_count": 2,
   "metadata": {},
   "outputs": [],
   "source": [
    "# Create the network\n",
    "network = pypsa.Network()\n",
    "\n",
    "# Add two buses (nodes) to the network\n",
    "network.add(\"Bus\", \"Node 1\")\n",
    "network.add(\"Bus\", \"Node 2\")\n",
    "\n",
    "# Define the demand at each node\n",
    "network.add(\"Load\", \"Demand Node 1\", bus=\"Node 1\", p_set=100)\n",
    "network.add(\"Load\", \"Demand Node 2\", bus=\"Node 2\", p_set=150)\n",
    "\n",
    "# Define the cost parameters for each technology\n",
    "network.add(\"Generator\", \"Solar PV\", bus=\"Node 1\", p_nom=50, marginal_cost=0.02)\n",
    "network.add(\"Generator\", \"Wind Energy\", bus=\"Node 1\", p_nom=70, marginal_cost=0.025)\n",
    "network.add(\"Generator\", \"Nuclear Energy\", bus=\"Node 2\", p_nom=100, marginal_cost=0.03)\n",
    "network.add(\"Generator\", \"Biomass\", bus=\"Node 2\", p_nom=50, marginal_cost=0.035)"
   ]
  },
  {
   "cell_type": "code",
   "execution_count": 3,
   "metadata": {},
   "outputs": [
    {
     "name": "stderr",
     "output_type": "stream",
     "text": [
      "INFO:pypsa.linopf:Prepare linear problem\n",
      "INFO:pypsa.linopf:Total preparation time: 0.18s\n",
      "INFO:pypsa.linopf:Solve linear problem using Glpk solver\n",
      "INFO:pypsa.linopf:Optimization successful. Objective value: 6.80e+00\n"
     ]
    },
    {
     "data": {
      "text/plain": [
       "('ok', 'optimal')"
      ]
     },
     "execution_count": 3,
     "metadata": {},
     "output_type": "execute_result"
    }
   ],
   "source": [
    "# Set the maximum generation capacity for each technology\n",
    "network.generators.p_nom_max = {\"Solar PV\": 100, \"Wind Energy\": 150, \"Nuclear Energy\": 200, \"Biomass\": 100}\n",
    "\n",
    "# Enforce a balance between generation and demand\n",
    "network.add(\"Link\", \"Transmission\", bus0=\"Node 1\", bus1=\"Node 2\", p_nom=200, p_min_pu=-0.5, p_max_pu=0.5)\n",
    "\n",
    "# Solve the optimization problem\n",
    "network.lopf()"
   ]
  },
  {
   "cell_type": "code",
   "execution_count": 4,
   "metadata": {},
   "outputs": [
    {
     "name": "stdout",
     "output_type": "stream",
     "text": [
      "{'p_min_pu': Empty DataFrame\n",
      "Columns: []\n",
      "Index: [now], 'p_max_pu': Empty DataFrame\n",
      "Columns: []\n",
      "Index: [now], 'p_set': Empty DataFrame\n",
      "Columns: []\n",
      "Index: [now], 'q_set': Empty DataFrame\n",
      "Columns: []\n",
      "Index: [now], 'marginal_cost': Empty DataFrame\n",
      "Columns: []\n",
      "Index: [now], 'p': Generator  Solar PV  Wind Energy  Nuclear Energy  Biomass\n",
      "snapshot                                                 \n",
      "now            50.0         70.0           100.0     30.0, 'q': Empty DataFrame\n",
      "Columns: []\n",
      "Index: [now], 'status': Empty DataFrame\n",
      "Columns: []\n",
      "Index: [now], 'mu_upper': Empty DataFrame\n",
      "Columns: []\n",
      "Index: [now], 'mu_lower': Empty DataFrame\n",
      "Columns: []\n",
      "Index: [now], 'mu_p_set': Empty DataFrame\n",
      "Columns: []\n",
      "Index: [now], 'mu_ramp_limit_up': Empty DataFrame\n",
      "Columns: []\n",
      "Index: [now], 'mu_ramp_limit_down': Empty DataFrame\n",
      "Columns: []\n",
      "Index: [now]}\n",
      "{'efficiency': Empty DataFrame\n",
      "Columns: []\n",
      "Index: [now], 'p_set': Empty DataFrame\n",
      "Columns: []\n",
      "Index: [now], 'p_min_pu': Empty DataFrame\n",
      "Columns: []\n",
      "Index: [now], 'p_max_pu': Empty DataFrame\n",
      "Columns: []\n",
      "Index: [now], 'marginal_cost': Empty DataFrame\n",
      "Columns: []\n",
      "Index: [now], 'p0': Link      Transmission\n",
      "snapshot              \n",
      "now               20.0, 'p1': Link      Transmission\n",
      "snapshot              \n",
      "now              -20.0, 'mu_lower': Link-fix  Transmission\n",
      "snapshot              \n",
      "now               -0.0, 'mu_upper': Link-fix  Transmission\n",
      "snapshot              \n",
      "now                0.0, 'mu_p_set': Empty DataFrame\n",
      "Columns: []\n",
      "Index: [now]}\n"
     ]
    }
   ],
   "source": [
    "# Print the generation results\n",
    "print(network.generators_t)\n",
    "\n",
    "# Print the transmission flow results\n",
    "print(network.links_t)"
   ]
  },
  {
   "cell_type": "code",
   "execution_count": null,
   "metadata": {},
   "outputs": [],
   "source": []
  },
  {
   "cell_type": "code",
   "execution_count": null,
   "metadata": {},
   "outputs": [],
   "source": []
  },
  {
   "cell_type": "code",
   "execution_count": null,
   "metadata": {},
   "outputs": [],
   "source": []
  }
 ],
 "metadata": {
  "kernelspec": {
   "display_name": "Python 3",
   "language": "python",
   "name": "python3"
  },
  "language_info": {
   "codemirror_mode": {
    "name": "ipython",
    "version": 3
   },
   "file_extension": ".py",
   "mimetype": "text/x-python",
   "name": "python",
   "nbconvert_exporter": "python",
   "pygments_lexer": "ipython3",
   "version": "3.9.7"
  },
  "orig_nbformat": 4
 },
 "nbformat": 4,
 "nbformat_minor": 2
}
