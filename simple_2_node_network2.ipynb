{
 "cells": [
  {
   "cell_type": "markdown",
   "metadata": {},
   "source": [
    "### Example 1: 2 node system"
   ]
  },
  {
   "cell_type": "markdown",
   "metadata": {},
   "source": [
    "#### Importing packages"
   ]
  },
  {
   "cell_type": "code",
   "execution_count": 127,
   "metadata": {},
   "outputs": [],
   "source": [
    "import pypsa\n",
    "import pandas as pd\n",
    "import numpy as np\n",
    "import matplotlib.pyplot as plt\n",
    "import networkx as nx\n",
    "import cartopy as ccrs"
   ]
  },
  {
   "cell_type": "markdown",
   "metadata": {},
   "source": [
    "#### Step 1:Fuel data, Powerplant efficiencies & Specific emissions"
   ]
  },
  {
   "cell_type": "code",
   "execution_count": 128,
   "metadata": {},
   "outputs": [],
   "source": [
    "#A) fuel costs in € / MWh$_{th}$ \n",
    "fuel_cost = {\"coal\": 30, \"oil\": 50, \"gas\": 55}"
   ]
  },
  {
   "cell_type": "code",
   "execution_count": 129,
   "metadata": {},
   "outputs": [],
   "source": [
    "# B) efficiencies of thermal power plants in MWh$_{el}$ / MWh$_{th}$\n",
    "efficiency = {\"coal\": 0.33, \"oil\": 0.35, \"gas\": 0.58}"
   ]
  },
  {
   "cell_type": "code",
   "execution_count": 130,
   "metadata": {},
   "outputs": [],
   "source": [
    "# C) Specific emissions are in t/MWh thermal\n",
    "emissions = dict(\n",
    "    coal=0.34, \n",
    "    gas=0.2, \n",
    "    oil=0.26,\n",
    "    geothermal=0.01\n",
    ")"
   ]
  },
  {
   "cell_type": "code",
   "execution_count": 131,
   "metadata": {},
   "outputs": [],
   "source": [
    "# D) Power plant capacities in MWp\n",
    "power_plants = {\n",
    "    \"Ambon_1\":{\"geothermal\": 600, \"gas\": 8000},\n",
    "    \"Ambon_2\":{ \"oil\": 2000, \"gas\": 2000, \"coal\":500},\n",
    "}"
   ]
  },
  {
   "cell_type": "code",
   "execution_count": 132,
   "metadata": {},
   "outputs": [],
   "source": [
    "# E) Add load in MW\n",
    "loads={\n",
    "    \"Ambon_1\":7000,\n",
    "    \"Ambon_2\":3000,\n",
    "}"
   ]
  },
  {
   "cell_type": "markdown",
   "metadata": {},
   "source": [
    "#### Step 2: Building Basic network"
   ]
  },
  {
   "cell_type": "code",
   "execution_count": 133,
   "metadata": {},
   "outputs": [],
   "source": [
    "# A) Create a network object\n",
    "n=pypsa.Network()"
   ]
  },
  {
   "cell_type": "code",
   "execution_count": 134,
   "metadata": {},
   "outputs": [],
   "source": [
    "# B) Add buses\n",
    "n.add(\"Bus\", \"Ambon_1\", y=-30.5, x= 25, v_nom=400, carrier='AC')#Ambon_1\n",
    "n.add(\"Bus\", \"Ambon_2\", y=-18.5, x= 35.5, v_nom=400, carrier='AC') #Ambon_2"
   ]
  },
  {
   "cell_type": "code",
   "execution_count": 135,
   "metadata": {},
   "outputs": [
    {
     "data": {
      "text/plain": [
       "Index(['coal', 'gas', 'oil', 'geothermal'], dtype='object')"
      ]
     },
     "execution_count": 135,
     "metadata": {},
     "output_type": "execute_result"
    }
   ],
   "source": [
    "# C) Add carriers with emissions associated with it\n",
    "n.madd(\n",
    "    \"Carrier\",\n",
    "    [\"coal\", \"gas\", \"oil\", \"geothermal\"], \n",
    "    co2_emissions=emissions,\n",
    "    nice_name=[\"Coal\", \"Gas\", \"Oil\",\"geothermal_plant\"],\n",
    "    color=[\"black\", \"indianred\", \"grey\",\"blue\"],\n",
    ") "
   ]
  },
  {
   "cell_type": "code",
   "execution_count": 136,
   "metadata": {},
   "outputs": [],
   "source": [
    "# D) Add generators in loop for type of powerplants mentioned already (For Ambon_1)\n",
    "for tech, capacity in power_plants[\"Ambon_1\"].items(): #Using .items() to access key-value pairs\n",
    "    n.add(\"Generator\",\n",
    "        f\"Ambon_1_{tech}\",\n",
    "        bus=\"Ambon_1\",\n",
    "        carrier = tech,\n",
    "        efficiency = efficiency.get(tech, 1),\n",
    "        p_nom=capacity,\n",
    "        marginal_cost=fuel_cost.get(tech, 0) / efficiency.get(tech, 1),\n",
    ")"
   ]
  },
  {
   "cell_type": "code",
   "execution_count": 137,
   "metadata": {},
   "outputs": [],
   "source": [
    "# D) Add generators in loop for type of powerplants mentioned already (For Ambon_1)\n",
    "for tech, capacity in power_plants[\"Ambon_2\"].items(): #Using .items() to access key-value pairs\n",
    "    n.add(\"Generator\",\n",
    "        f\"Ambon_2_{tech}\",\n",
    "        bus=\"Ambon_2\",\n",
    "        carrier = tech,\n",
    "        efficiency = efficiency.get(tech, 1),\n",
    "        p_nom=capacity,\n",
    "        marginal_cost=fuel_cost.get(tech, 0) / efficiency.get(tech, 1),\n",
    ")"
   ]
  },
  {
   "cell_type": "code",
   "execution_count": 138,
   "metadata": {},
   "outputs": [
    {
     "data": {
      "text/html": [
       "<div>\n",
       "<style scoped>\n",
       "    .dataframe tbody tr th:only-of-type {\n",
       "        vertical-align: middle;\n",
       "    }\n",
       "\n",
       "    .dataframe tbody tr th {\n",
       "        vertical-align: top;\n",
       "    }\n",
       "\n",
       "    .dataframe thead th {\n",
       "        text-align: right;\n",
       "    }\n",
       "</style>\n",
       "<table border=\"1\" class=\"dataframe\">\n",
       "  <thead>\n",
       "    <tr style=\"text-align: right;\">\n",
       "      <th>attribute</th>\n",
       "      <th>bus</th>\n",
       "      <th>control</th>\n",
       "      <th>type</th>\n",
       "      <th>p_nom</th>\n",
       "      <th>p_nom_extendable</th>\n",
       "      <th>p_nom_min</th>\n",
       "      <th>p_nom_max</th>\n",
       "      <th>p_min_pu</th>\n",
       "      <th>p_max_pu</th>\n",
       "      <th>p_set</th>\n",
       "      <th>...</th>\n",
       "      <th>shut_down_cost</th>\n",
       "      <th>min_up_time</th>\n",
       "      <th>min_down_time</th>\n",
       "      <th>up_time_before</th>\n",
       "      <th>down_time_before</th>\n",
       "      <th>ramp_limit_up</th>\n",
       "      <th>ramp_limit_down</th>\n",
       "      <th>ramp_limit_start_up</th>\n",
       "      <th>ramp_limit_shut_down</th>\n",
       "      <th>p_nom_opt</th>\n",
       "    </tr>\n",
       "    <tr>\n",
       "      <th>Generator</th>\n",
       "      <th></th>\n",
       "      <th></th>\n",
       "      <th></th>\n",
       "      <th></th>\n",
       "      <th></th>\n",
       "      <th></th>\n",
       "      <th></th>\n",
       "      <th></th>\n",
       "      <th></th>\n",
       "      <th></th>\n",
       "      <th></th>\n",
       "      <th></th>\n",
       "      <th></th>\n",
       "      <th></th>\n",
       "      <th></th>\n",
       "      <th></th>\n",
       "      <th></th>\n",
       "      <th></th>\n",
       "      <th></th>\n",
       "      <th></th>\n",
       "      <th></th>\n",
       "    </tr>\n",
       "  </thead>\n",
       "  <tbody>\n",
       "    <tr>\n",
       "      <th>Ambon_1_geothermal</th>\n",
       "      <td>Ambon_1</td>\n",
       "      <td>PQ</td>\n",
       "      <td></td>\n",
       "      <td>600.0</td>\n",
       "      <td>False</td>\n",
       "      <td>0.0</td>\n",
       "      <td>inf</td>\n",
       "      <td>0.0</td>\n",
       "      <td>1.0</td>\n",
       "      <td>0.0</td>\n",
       "      <td>...</td>\n",
       "      <td>0.0</td>\n",
       "      <td>0</td>\n",
       "      <td>0</td>\n",
       "      <td>1</td>\n",
       "      <td>0</td>\n",
       "      <td>NaN</td>\n",
       "      <td>NaN</td>\n",
       "      <td>1.0</td>\n",
       "      <td>1.0</td>\n",
       "      <td>0.0</td>\n",
       "    </tr>\n",
       "    <tr>\n",
       "      <th>Ambon_1_gas</th>\n",
       "      <td>Ambon_1</td>\n",
       "      <td>PQ</td>\n",
       "      <td></td>\n",
       "      <td>8000.0</td>\n",
       "      <td>False</td>\n",
       "      <td>0.0</td>\n",
       "      <td>inf</td>\n",
       "      <td>0.0</td>\n",
       "      <td>1.0</td>\n",
       "      <td>0.0</td>\n",
       "      <td>...</td>\n",
       "      <td>0.0</td>\n",
       "      <td>0</td>\n",
       "      <td>0</td>\n",
       "      <td>1</td>\n",
       "      <td>0</td>\n",
       "      <td>NaN</td>\n",
       "      <td>NaN</td>\n",
       "      <td>1.0</td>\n",
       "      <td>1.0</td>\n",
       "      <td>0.0</td>\n",
       "    </tr>\n",
       "    <tr>\n",
       "      <th>Ambon_2_oil</th>\n",
       "      <td>Ambon_2</td>\n",
       "      <td>PQ</td>\n",
       "      <td></td>\n",
       "      <td>2000.0</td>\n",
       "      <td>False</td>\n",
       "      <td>0.0</td>\n",
       "      <td>inf</td>\n",
       "      <td>0.0</td>\n",
       "      <td>1.0</td>\n",
       "      <td>0.0</td>\n",
       "      <td>...</td>\n",
       "      <td>0.0</td>\n",
       "      <td>0</td>\n",
       "      <td>0</td>\n",
       "      <td>1</td>\n",
       "      <td>0</td>\n",
       "      <td>NaN</td>\n",
       "      <td>NaN</td>\n",
       "      <td>1.0</td>\n",
       "      <td>1.0</td>\n",
       "      <td>0.0</td>\n",
       "    </tr>\n",
       "    <tr>\n",
       "      <th>Ambon_2_gas</th>\n",
       "      <td>Ambon_2</td>\n",
       "      <td>PQ</td>\n",
       "      <td></td>\n",
       "      <td>2000.0</td>\n",
       "      <td>False</td>\n",
       "      <td>0.0</td>\n",
       "      <td>inf</td>\n",
       "      <td>0.0</td>\n",
       "      <td>1.0</td>\n",
       "      <td>0.0</td>\n",
       "      <td>...</td>\n",
       "      <td>0.0</td>\n",
       "      <td>0</td>\n",
       "      <td>0</td>\n",
       "      <td>1</td>\n",
       "      <td>0</td>\n",
       "      <td>NaN</td>\n",
       "      <td>NaN</td>\n",
       "      <td>1.0</td>\n",
       "      <td>1.0</td>\n",
       "      <td>0.0</td>\n",
       "    </tr>\n",
       "    <tr>\n",
       "      <th>Ambon_2_coal</th>\n",
       "      <td>Ambon_2</td>\n",
       "      <td>PQ</td>\n",
       "      <td></td>\n",
       "      <td>500.0</td>\n",
       "      <td>False</td>\n",
       "      <td>0.0</td>\n",
       "      <td>inf</td>\n",
       "      <td>0.0</td>\n",
       "      <td>1.0</td>\n",
       "      <td>0.0</td>\n",
       "      <td>...</td>\n",
       "      <td>0.0</td>\n",
       "      <td>0</td>\n",
       "      <td>0</td>\n",
       "      <td>1</td>\n",
       "      <td>0</td>\n",
       "      <td>NaN</td>\n",
       "      <td>NaN</td>\n",
       "      <td>1.0</td>\n",
       "      <td>1.0</td>\n",
       "      <td>0.0</td>\n",
       "    </tr>\n",
       "  </tbody>\n",
       "</table>\n",
       "<p>5 rows × 30 columns</p>\n",
       "</div>"
      ],
      "text/plain": [
       "attribute               bus control type   p_nom  p_nom_extendable  p_nom_min   \n",
       "Generator                                                                       \n",
       "Ambon_1_geothermal  Ambon_1      PQ        600.0             False        0.0  \\\n",
       "Ambon_1_gas         Ambon_1      PQ       8000.0             False        0.0   \n",
       "Ambon_2_oil         Ambon_2      PQ       2000.0             False        0.0   \n",
       "Ambon_2_gas         Ambon_2      PQ       2000.0             False        0.0   \n",
       "Ambon_2_coal        Ambon_2      PQ        500.0             False        0.0   \n",
       "\n",
       "attribute           p_nom_max  p_min_pu  p_max_pu  p_set  ...  shut_down_cost   \n",
       "Generator                                                 ...                   \n",
       "Ambon_1_geothermal        inf       0.0       1.0    0.0  ...             0.0  \\\n",
       "Ambon_1_gas               inf       0.0       1.0    0.0  ...             0.0   \n",
       "Ambon_2_oil               inf       0.0       1.0    0.0  ...             0.0   \n",
       "Ambon_2_gas               inf       0.0       1.0    0.0  ...             0.0   \n",
       "Ambon_2_coal              inf       0.0       1.0    0.0  ...             0.0   \n",
       "\n",
       "attribute           min_up_time min_down_time  up_time_before   \n",
       "Generator                                                       \n",
       "Ambon_1_geothermal            0             0               1  \\\n",
       "Ambon_1_gas                   0             0               1   \n",
       "Ambon_2_oil                   0             0               1   \n",
       "Ambon_2_gas                   0             0               1   \n",
       "Ambon_2_coal                  0             0               1   \n",
       "\n",
       "attribute           down_time_before  ramp_limit_up  ramp_limit_down   \n",
       "Generator                                                              \n",
       "Ambon_1_geothermal                 0            NaN              NaN  \\\n",
       "Ambon_1_gas                        0            NaN              NaN   \n",
       "Ambon_2_oil                        0            NaN              NaN   \n",
       "Ambon_2_gas                        0            NaN              NaN   \n",
       "Ambon_2_coal                       0            NaN              NaN   \n",
       "\n",
       "attribute           ramp_limit_start_up  ramp_limit_shut_down  p_nom_opt  \n",
       "Generator                                                                 \n",
       "Ambon_1_geothermal                  1.0                   1.0        0.0  \n",
       "Ambon_1_gas                         1.0                   1.0        0.0  \n",
       "Ambon_2_oil                         1.0                   1.0        0.0  \n",
       "Ambon_2_gas                         1.0                   1.0        0.0  \n",
       "Ambon_2_coal                        1.0                   1.0        0.0  \n",
       "\n",
       "[5 rows x 30 columns]"
      ]
     },
     "execution_count": 138,
     "metadata": {},
     "output_type": "execute_result"
    }
   ],
   "source": [
    "n.generators"
   ]
  },
  {
   "cell_type": "code",
   "execution_count": 139,
   "metadata": {},
   "outputs": [],
   "source": [
    "# E) Add electricity demand\n",
    "n.add(\"Load\",\n",
    "    \"Ambon_1_elec_demand\",\n",
    "    bus=\"Ambon_1\",\n",
    "    p_set=loads[\"Ambon_1\"],\n",
    "    carrier='electricity',\n",
    ")"
   ]
  },
  {
   "cell_type": "code",
   "execution_count": 140,
   "metadata": {},
   "outputs": [],
   "source": [
    "# E) Add electricity demand\n",
    "n.add(\"Load\",\n",
    "    \"Ambon_2_elec_demand\",\n",
    "    bus=\"Ambon_2\",\n",
    "    p_set=loads[\"Ambon_2\"],\n",
    "    carrier='electricity',\n",
    ")"
   ]
  },
  {
   "cell_type": "code",
   "execution_count": 141,
   "metadata": {},
   "outputs": [],
   "source": [
    "# F) Add line connection between the buses\n",
    "n.add(\"Line\",\n",
    "    \"Bus_1-Bus_2\",\n",
    "    bus0=\"Ambon_1\",\n",
    "    bus1=\"Ambon_2\",\n",
    "    s_nom=500,\n",
    "    x=1,\n",
    ")"
   ]
  },
  {
   "cell_type": "code",
   "execution_count": 142,
   "metadata": {},
   "outputs": [
    {
     "name": "stderr",
     "output_type": "stream",
     "text": [
      "INFO:pypsa.linopf:Prepare linear problem\n",
      "INFO:pypsa.linopf:Total preparation time: 0.08s\n",
      "INFO:pypsa.linopf:Solve linear problem using Glpk solver\n",
      "INFO:pypsa.linopf:Optimization successful. Objective value: 8.89e+05\n"
     ]
    },
    {
     "data": {
      "text/plain": [
       "('ok', 'optimal')"
      ]
     },
     "execution_count": 142,
     "metadata": {},
     "output_type": "execute_result"
    }
   ],
   "source": [
    "n.lopf(solver_name='glpk')"
   ]
  },
  {
   "cell_type": "code",
   "execution_count": 149,
   "metadata": {},
   "outputs": [
    {
     "name": "stderr",
     "output_type": "stream",
     "text": [
      "c:\\Users\\par19744\\.conda\\envs\\pypsa-eur\\lib\\site-packages\\cartopy\\mpl\\style.py:76: UserWarning: facecolor will have no effect as it has been defined as \"never\".\n",
      "  warnings.warn('facecolor will have no effect as it has been '\n"
     ]
    },
    {
     "data": {
      "image/png": "[encoded data removed]",
      "text/plain": [
       "<Figure size 640x480 with 1 Axes>"
      ]
     },
     "metadata": {},
     "output_type": "display_data"
    }
   ],
   "source": [
    "n.plot(bus_sizes=0.2, margin=1);"
   ]
  },
  {
   "cell_type": "code",
   "execution_count": 143,
   "metadata": {},
   "outputs": [
    {
     "data": {
      "text/html": [
       "<div>\n",
       "<style scoped>\n",
       "    .dataframe tbody tr th:only-of-type {\n",
       "        vertical-align: middle;\n",
       "    }\n",
       "\n",
       "    .dataframe tbody tr th {\n",
       "        vertical-align: top;\n",
       "    }\n",
       "\n",
       "    .dataframe thead th {\n",
       "        text-align: right;\n",
       "    }\n",
       "</style>\n",
       "<table border=\"1\" class=\"dataframe\">\n",
       "  <thead>\n",
       "    <tr style=\"text-align: right;\">\n",
       "      <th>Generator</th>\n",
       "      <th>Ambon_1_geothermal</th>\n",
       "      <th>Ambon_1_gas</th>\n",
       "      <th>Ambon_2_oil</th>\n",
       "      <th>Ambon_2_gas</th>\n",
       "      <th>Ambon_2_coal</th>\n",
       "    </tr>\n",
       "    <tr>\n",
       "      <th>snapshot</th>\n",
       "      <th></th>\n",
       "      <th></th>\n",
       "      <th></th>\n",
       "      <th></th>\n",
       "      <th></th>\n",
       "    </tr>\n",
       "  </thead>\n",
       "  <tbody>\n",
       "    <tr>\n",
       "      <th>now</th>\n",
       "      <td>600.0</td>\n",
       "      <td>6900.0</td>\n",
       "      <td>0.0</td>\n",
       "      <td>2000.0</td>\n",
       "      <td>500.0</td>\n",
       "    </tr>\n",
       "  </tbody>\n",
       "</table>\n",
       "</div>"
      ],
      "text/plain": [
       "Generator  Ambon_1_geothermal  Ambon_1_gas  Ambon_2_oil  Ambon_2_gas   \n",
       "snapshot                                                               \n",
       "now                     600.0       6900.0          0.0       2000.0  \\\n",
       "\n",
       "Generator  Ambon_2_coal  \n",
       "snapshot                 \n",
       "now               500.0  "
      ]
     },
     "execution_count": 143,
     "metadata": {},
     "output_type": "execute_result"
    }
   ],
   "source": [
    "n.generators_t.p"
   ]
  },
  {
   "cell_type": "code",
   "execution_count": 144,
   "metadata": {},
   "outputs": [
    {
     "data": {
      "text/html": [
       "<div>\n",
       "<style scoped>\n",
       "    .dataframe tbody tr th:only-of-type {\n",
       "        vertical-align: middle;\n",
       "    }\n",
       "\n",
       "    .dataframe tbody tr th {\n",
       "        vertical-align: top;\n",
       "    }\n",
       "\n",
       "    .dataframe thead th {\n",
       "        text-align: right;\n",
       "    }\n",
       "</style>\n",
       "<table border=\"1\" class=\"dataframe\">\n",
       "  <thead>\n",
       "    <tr style=\"text-align: right;\">\n",
       "      <th>Bus</th>\n",
       "      <th>Ambon_1</th>\n",
       "      <th>Ambon_2</th>\n",
       "    </tr>\n",
       "    <tr>\n",
       "      <th>snapshot</th>\n",
       "      <th></th>\n",
       "      <th></th>\n",
       "    </tr>\n",
       "  </thead>\n",
       "  <tbody>\n",
       "    <tr>\n",
       "      <th>now</th>\n",
       "      <td>94.8276</td>\n",
       "      <td>142.857</td>\n",
       "    </tr>\n",
       "  </tbody>\n",
       "</table>\n",
       "</div>"
      ],
      "text/plain": [
       "Bus       Ambon_1  Ambon_2\n",
       "snapshot                  \n",
       "now       94.8276  142.857"
      ]
     },
     "execution_count": 144,
     "metadata": {},
     "output_type": "execute_result"
    }
   ],
   "source": [
    "n.buses_t.marginal_price"
   ]
  },
  {
   "cell_type": "code",
   "execution_count": 145,
   "metadata": {},
   "outputs": [],
   "source": [
    "s = n.loads.groupby('bus').p_set.sum() / 1e4"
   ]
  },
  {
   "cell_type": "code",
   "execution_count": 146,
   "metadata": {},
   "outputs": [
    {
     "data": {
      "text/plain": [
       "Generator\n",
       "Ambon_1_geothermal     600.0\n",
       "Ambon_1_gas           6900.0\n",
       "Ambon_2_oil              0.0\n",
       "Ambon_2_gas           2000.0\n",
       "Ambon_2_coal           500.0\n",
       "Name: now, dtype: float64"
      ]
     },
     "execution_count": 146,
     "metadata": {},
     "output_type": "execute_result"
    }
   ],
   "source": [
    "n.generators_t.p.loc[\"now\"]"
   ]
  },
  {
   "cell_type": "code",
   "execution_count": 148,
   "metadata": {},
   "outputs": [
    {
     "data": {
      "text/plain": [
       "Text(0, 0.5, 'GW')"
      ]
     },
     "execution_count": 148,
     "metadata": {},
     "output_type": "execute_result"
    },
    {
     "data": {
      "image/png": "[encoded data removed]",
      "text/plain": [
       "<Figure size 640x480 with 1 Axes>"
      ]
     },
     "metadata": {},
     "output_type": "display_data"
    }
   ],
   "source": [
    "n.generators.groupby(\"carrier\").p_nom.sum().div(1e3).plot.bar()\n",
    "plt.ylabel('GW')"
   ]
  }
 ],
 "metadata": {
  "kernelspec": {
   "display_name": "Python 3.10.11 ('pypsa-eur')",
   "language": "python",
   "name": "python3"
  },
  "language_info": {
   "codemirror_mode": {
    "name": "ipython",
    "version": 3
   },
   "file_extension": ".py",
   "mimetype": "text/x-python",
   "name": "python",
   "nbconvert_exporter": "python",
   "pygments_lexer": "ipython3",
   "version": "3.10.11"
  },
  "orig_nbformat": 4,
  "vscode": {
   "interpreter": {
    "hash": "dbb1f01fbb8deb0d826635157f8862bbf02a988c376ba856d5d2ac12cd6408ad"
   }
  }
 },
 "nbformat": 4,
 "nbformat_minor": 2
}
