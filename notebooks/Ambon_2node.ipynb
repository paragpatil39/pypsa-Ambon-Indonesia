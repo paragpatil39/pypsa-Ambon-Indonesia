{
 "cells": [
  {
   "cell_type": "markdown",
   "metadata": {},
   "source": [
    "# 2-Node Congestion Identification and Redispatch Market: Germany"
   ]
  },
  {
   "cell_type": "markdown",
   "metadata": {},
   "source": [
    "## Single bidding zone with fixed load, one period: Germany"
   ]
  },
  {
   "cell_type": "markdown",
   "metadata": {},
   "source": [
    "### 1)Import Packages"
   ]
  },
  {
   "cell_type": "code",
   "execution_count": 283,
   "metadata": {},
   "outputs": [],
   "source": [
    "import pypsa\n",
    "import pandapower as pp\n",
    "import os\n",
    "import matplotlib.pyplot as plt\n",
    "import numpy as np\n",
    "import pandas as pd\n",
    "import cartopy.crs as ccrs\n",
    "import warnings\n",
    "import subprocess\n",
    "from shapely.errors import ShapelyDeprecationWarning\n",
    "\n",
    "warnings.filterwarnings(\"ignore\", category=ShapelyDeprecationWarning)\n",
    "warnings.filterwarnings(\"ignore\", category=FutureWarning)\n",
    "plt.rc(\"figure\", figsize=(10, 8))"
   ]
  },
  {
   "cell_type": "code",
   "execution_count": 284,
   "metadata": {},
   "outputs": [],
   "source": [
    "os.chdir(\"C:\\\\Users\\\\par19744\\\\Python_projects\\\\pypsa-Ambon-Indonesia\\\\data\")"
   ]
  },
  {
   "cell_type": "markdown",
   "metadata": {},
   "source": [
    "### 2)Create a network and set Snapshots"
   ]
  },
  {
   "cell_type": "code",
   "execution_count": 285,
   "metadata": {},
   "outputs": [],
   "source": [
    "# Create a new PyPSA network\n",
    "network = pypsa.Network()\n",
    "network.set_snapshots(range(1))  # Solve for a year 365*24\n",
    "solver='glpk'"
   ]
  },
  {
   "cell_type": "markdown",
   "metadata": {},
   "source": [
    "### 3)Add Buses"
   ]
  },
  {
   "cell_type": "code",
   "execution_count": 286,
   "metadata": {},
   "outputs": [],
   "source": [
    "# Read excel file which contains Non renewable generators data\n",
    "\n",
    "def add_buses(filename,header):\n",
    "    try:\n",
    "        bus_data = pd.read_csv(filename,header=header)\n",
    "    except pd.errors.EmptyDataError:\n",
    "        print(\"The CSV file is empty.\")\n",
    "        return\n",
    "        \n",
    "    for index,row in bus_data.iterrows():\n",
    "        network.add(\n",
    "            \"Bus\",\n",
    "            name=row['bus'],\n",
    "            v_nom=row['v_nom'],\n",
    "            carrier=row['carrier'],\n",
    "            x=row['x'],\n",
    "            y=row['y']\n",
    "            )\n",
    "    return network.buses"
   ]
  },
  {
   "cell_type": "code",
   "execution_count": 287,
   "metadata": {},
   "outputs": [
    {
     "data": {
      "text/html": [
       "<div>\n",
       "<style scoped>\n",
       "    .dataframe tbody tr th:only-of-type {\n",
       "        vertical-align: middle;\n",
       "    }\n",
       "\n",
       "    .dataframe tbody tr th {\n",
       "        vertical-align: top;\n",
       "    }\n",
       "\n",
       "    .dataframe thead th {\n",
       "        text-align: right;\n",
       "    }\n",
       "</style>\n",
       "<table border=\"1\" class=\"dataframe\">\n",
       "  <thead>\n",
       "    <tr style=\"text-align: right;\">\n",
       "      <th>attribute</th>\n",
       "      <th>v_nom</th>\n",
       "      <th>type</th>\n",
       "      <th>x</th>\n",
       "      <th>y</th>\n",
       "      <th>carrier</th>\n",
       "      <th>unit</th>\n",
       "      <th>v_mag_pu_set</th>\n",
       "      <th>v_mag_pu_min</th>\n",
       "      <th>v_mag_pu_max</th>\n",
       "      <th>control</th>\n",
       "      <th>sub_network</th>\n",
       "    </tr>\n",
       "    <tr>\n",
       "      <th>Bus</th>\n",
       "      <th></th>\n",
       "      <th></th>\n",
       "      <th></th>\n",
       "      <th></th>\n",
       "      <th></th>\n",
       "      <th></th>\n",
       "      <th></th>\n",
       "      <th></th>\n",
       "      <th></th>\n",
       "      <th></th>\n",
       "      <th></th>\n",
       "    </tr>\n",
       "  </thead>\n",
       "  <tbody>\n",
       "    <tr>\n",
       "      <th>Ambon_1</th>\n",
       "      <td>380.0</td>\n",
       "      <td></td>\n",
       "      <td>128.336</td>\n",
       "      <td>-3.591</td>\n",
       "      <td>AC</td>\n",
       "      <td></td>\n",
       "      <td>1.0</td>\n",
       "      <td>0.0</td>\n",
       "      <td>inf</td>\n",
       "      <td>PQ</td>\n",
       "      <td></td>\n",
       "    </tr>\n",
       "    <tr>\n",
       "      <th>Ambon_2</th>\n",
       "      <td>380.0</td>\n",
       "      <td></td>\n",
       "      <td>128.177</td>\n",
       "      <td>-3.702</td>\n",
       "      <td>AC</td>\n",
       "      <td></td>\n",
       "      <td>1.0</td>\n",
       "      <td>0.0</td>\n",
       "      <td>inf</td>\n",
       "      <td>PQ</td>\n",
       "      <td></td>\n",
       "    </tr>\n",
       "  </tbody>\n",
       "</table>\n",
       "</div>"
      ],
      "text/plain": [
       "attribute  v_nom type        x      y carrier unit  v_mag_pu_set  \\\n",
       "Bus                                                                \n",
       "Ambon_1    380.0       128.336 -3.591      AC                1.0   \n",
       "Ambon_2    380.0       128.177 -3.702      AC                1.0   \n",
       "\n",
       "attribute  v_mag_pu_min  v_mag_pu_max control sub_network  \n",
       "Bus                                                        \n",
       "Ambon_1             0.0           inf      PQ              \n",
       "Ambon_2             0.0           inf      PQ              "
      ]
     },
     "execution_count": 287,
     "metadata": {},
     "output_type": "execute_result"
    }
   ],
   "source": [
    "add_buses('buses.csv',0)"
   ]
  },
  {
   "cell_type": "markdown",
   "metadata": {},
   "source": [
    "### 4)Add generators"
   ]
  },
  {
   "cell_type": "code",
   "execution_count": 288,
   "metadata": {},
   "outputs": [],
   "source": [
    "# Read excel file which contains Non renewable generators data\n",
    "\n",
    "def add_generators(filename,header):\n",
    "    try:\n",
    "        generators = pd.read_csv(filename, header=header)\n",
    "    except pd.errors.EmptyDataError:\n",
    "        print(\"The CSV file is empty.\")\n",
    "        return\n",
    "\n",
    "    \n",
    "    network.madd(\n",
    "    \"Generator\",\n",
    "        names= generators.generator,\n",
    "        bus=list(generators.bus),\n",
    "        carrier=list(generators.generator),\n",
    "        p_set=list(generators.p_da),\n",
    "        p_nom=list(generators.p_nom),\n",
    "        p_max_pu=1,\n",
    "        p_min_pu=0,\n",
    "        p_nom_extendable=list(generators.p_nom_extendable),\n",
    "        marginal_cost=list(generators.marginal_cost),\n",
    "    ) \n",
    "    return network.generators"
   ]
  },
  {
   "cell_type": "code",
   "execution_count": 289,
   "metadata": {},
   "outputs": [
    {
     "data": {
      "text/html": [
       "<div>\n",
       "<style scoped>\n",
       "    .dataframe tbody tr th:only-of-type {\n",
       "        vertical-align: middle;\n",
       "    }\n",
       "\n",
       "    .dataframe tbody tr th {\n",
       "        vertical-align: top;\n",
       "    }\n",
       "\n",
       "    .dataframe thead th {\n",
       "        text-align: right;\n",
       "    }\n",
       "</style>\n",
       "<table border=\"1\" class=\"dataframe\">\n",
       "  <thead>\n",
       "    <tr style=\"text-align: right;\">\n",
       "      <th></th>\n",
       "      <th>bus</th>\n",
       "      <th>carrier</th>\n",
       "      <th>p_set</th>\n",
       "      <th>p_nom</th>\n",
       "      <th>p_max_pu</th>\n",
       "      <th>p_min_pu</th>\n",
       "      <th>p_nom_extendable</th>\n",
       "      <th>marginal_cost</th>\n",
       "      <th>control</th>\n",
       "      <th>type</th>\n",
       "      <th>p_nom_min</th>\n",
       "      <th>p_nom_max</th>\n",
       "      <th>q_set</th>\n",
       "      <th>sign</th>\n",
       "      <th>marginal_cost_quadratic</th>\n",
       "      <th>build_year</th>\n",
       "      <th>lifetime</th>\n",
       "      <th>capital_cost</th>\n",
       "      <th>efficiency</th>\n",
       "      <th>committable</th>\n",
       "      <th>start_up_cost</th>\n",
       "      <th>shut_down_cost</th>\n",
       "      <th>stand_by_cost</th>\n",
       "      <th>min_up_time</th>\n",
       "      <th>min_down_time</th>\n",
       "      <th>up_time_before</th>\n",
       "      <th>down_time_before</th>\n",
       "      <th>ramp_limit_up</th>\n",
       "      <th>ramp_limit_down</th>\n",
       "      <th>ramp_limit_start_up</th>\n",
       "      <th>ramp_limit_shut_down</th>\n",
       "      <th>weight</th>\n",
       "      <th>p_nom_opt</th>\n",
       "    </tr>\n",
       "    <tr>\n",
       "      <th>Generator</th>\n",
       "      <th></th>\n",
       "      <th></th>\n",
       "      <th></th>\n",
       "      <th></th>\n",
       "      <th></th>\n",
       "      <th></th>\n",
       "      <th></th>\n",
       "      <th></th>\n",
       "      <th></th>\n",
       "      <th></th>\n",
       "      <th></th>\n",
       "      <th></th>\n",
       "      <th></th>\n",
       "      <th></th>\n",
       "      <th></th>\n",
       "      <th></th>\n",
       "      <th></th>\n",
       "      <th></th>\n",
       "      <th></th>\n",
       "      <th></th>\n",
       "      <th></th>\n",
       "      <th></th>\n",
       "      <th></th>\n",
       "      <th></th>\n",
       "      <th></th>\n",
       "      <th></th>\n",
       "      <th></th>\n",
       "      <th></th>\n",
       "      <th></th>\n",
       "      <th></th>\n",
       "      <th></th>\n",
       "      <th></th>\n",
       "      <th></th>\n",
       "    </tr>\n",
       "  </thead>\n",
       "  <tbody>\n",
       "    <tr>\n",
       "      <th>Amb1_geo</th>\n",
       "      <td>Ambon_1</td>\n",
       "      <td>Amb1_geo</td>\n",
       "      <td>15.0</td>\n",
       "      <td>600.0</td>\n",
       "      <td>1.0</td>\n",
       "      <td>0.0</td>\n",
       "      <td>False</td>\n",
       "      <td>50.0</td>\n",
       "      <td>PQ</td>\n",
       "      <td></td>\n",
       "      <td>0.0</td>\n",
       "      <td>inf</td>\n",
       "      <td>0.0</td>\n",
       "      <td>1.0</td>\n",
       "      <td>0.0</td>\n",
       "      <td>0</td>\n",
       "      <td>inf</td>\n",
       "      <td>0.0</td>\n",
       "      <td>1.0</td>\n",
       "      <td>False</td>\n",
       "      <td>0.0</td>\n",
       "      <td>0.0</td>\n",
       "      <td>0.0</td>\n",
       "      <td>0</td>\n",
       "      <td>0</td>\n",
       "      <td>1</td>\n",
       "      <td>0</td>\n",
       "      <td>NaN</td>\n",
       "      <td>NaN</td>\n",
       "      <td>1.0</td>\n",
       "      <td>1.0</td>\n",
       "      <td>1.0</td>\n",
       "      <td>0.0</td>\n",
       "    </tr>\n",
       "    <tr>\n",
       "      <th>Amb1_gas</th>\n",
       "      <td>Ambon_1</td>\n",
       "      <td>Amb1_gas</td>\n",
       "      <td>16.0</td>\n",
       "      <td>8000.0</td>\n",
       "      <td>1.0</td>\n",
       "      <td>0.0</td>\n",
       "      <td>False</td>\n",
       "      <td>50.0</td>\n",
       "      <td>PQ</td>\n",
       "      <td></td>\n",
       "      <td>0.0</td>\n",
       "      <td>inf</td>\n",
       "      <td>0.0</td>\n",
       "      <td>1.0</td>\n",
       "      <td>0.0</td>\n",
       "      <td>0</td>\n",
       "      <td>inf</td>\n",
       "      <td>0.0</td>\n",
       "      <td>1.0</td>\n",
       "      <td>False</td>\n",
       "      <td>0.0</td>\n",
       "      <td>0.0</td>\n",
       "      <td>0.0</td>\n",
       "      <td>0</td>\n",
       "      <td>0</td>\n",
       "      <td>1</td>\n",
       "      <td>0</td>\n",
       "      <td>NaN</td>\n",
       "      <td>NaN</td>\n",
       "      <td>1.0</td>\n",
       "      <td>1.0</td>\n",
       "      <td>1.0</td>\n",
       "      <td>0.0</td>\n",
       "    </tr>\n",
       "    <tr>\n",
       "      <th>Amb2_oil</th>\n",
       "      <td>Ambon_2</td>\n",
       "      <td>Amb2_oil</td>\n",
       "      <td>10.0</td>\n",
       "      <td>2000.0</td>\n",
       "      <td>1.0</td>\n",
       "      <td>0.0</td>\n",
       "      <td>False</td>\n",
       "      <td>55.0</td>\n",
       "      <td>PQ</td>\n",
       "      <td></td>\n",
       "      <td>0.0</td>\n",
       "      <td>inf</td>\n",
       "      <td>0.0</td>\n",
       "      <td>1.0</td>\n",
       "      <td>0.0</td>\n",
       "      <td>0</td>\n",
       "      <td>inf</td>\n",
       "      <td>0.0</td>\n",
       "      <td>1.0</td>\n",
       "      <td>False</td>\n",
       "      <td>0.0</td>\n",
       "      <td>0.0</td>\n",
       "      <td>0.0</td>\n",
       "      <td>0</td>\n",
       "      <td>0</td>\n",
       "      <td>1</td>\n",
       "      <td>0</td>\n",
       "      <td>NaN</td>\n",
       "      <td>NaN</td>\n",
       "      <td>1.0</td>\n",
       "      <td>1.0</td>\n",
       "      <td>1.0</td>\n",
       "      <td>0.0</td>\n",
       "    </tr>\n",
       "    <tr>\n",
       "      <th>Amb2_gas</th>\n",
       "      <td>Ambon_2</td>\n",
       "      <td>Amb2_gas</td>\n",
       "      <td>9.0</td>\n",
       "      <td>2000.0</td>\n",
       "      <td>1.0</td>\n",
       "      <td>0.0</td>\n",
       "      <td>False</td>\n",
       "      <td>50.0</td>\n",
       "      <td>PQ</td>\n",
       "      <td></td>\n",
       "      <td>0.0</td>\n",
       "      <td>inf</td>\n",
       "      <td>0.0</td>\n",
       "      <td>1.0</td>\n",
       "      <td>0.0</td>\n",
       "      <td>0</td>\n",
       "      <td>inf</td>\n",
       "      <td>0.0</td>\n",
       "      <td>1.0</td>\n",
       "      <td>False</td>\n",
       "      <td>0.0</td>\n",
       "      <td>0.0</td>\n",
       "      <td>0.0</td>\n",
       "      <td>0</td>\n",
       "      <td>0</td>\n",
       "      <td>1</td>\n",
       "      <td>0</td>\n",
       "      <td>NaN</td>\n",
       "      <td>NaN</td>\n",
       "      <td>1.0</td>\n",
       "      <td>1.0</td>\n",
       "      <td>1.0</td>\n",
       "      <td>0.0</td>\n",
       "    </tr>\n",
       "    <tr>\n",
       "      <th>Amb2_coal</th>\n",
       "      <td>Ambon_2</td>\n",
       "      <td>Amb2_coal</td>\n",
       "      <td>10.0</td>\n",
       "      <td>500.0</td>\n",
       "      <td>1.0</td>\n",
       "      <td>0.0</td>\n",
       "      <td>False</td>\n",
       "      <td>30.0</td>\n",
       "      <td>PQ</td>\n",
       "      <td></td>\n",
       "      <td>0.0</td>\n",
       "      <td>inf</td>\n",
       "      <td>0.0</td>\n",
       "      <td>1.0</td>\n",
       "      <td>0.0</td>\n",
       "      <td>0</td>\n",
       "      <td>inf</td>\n",
       "      <td>0.0</td>\n",
       "      <td>1.0</td>\n",
       "      <td>False</td>\n",
       "      <td>0.0</td>\n",
       "      <td>0.0</td>\n",
       "      <td>0.0</td>\n",
       "      <td>0</td>\n",
       "      <td>0</td>\n",
       "      <td>1</td>\n",
       "      <td>0</td>\n",
       "      <td>NaN</td>\n",
       "      <td>NaN</td>\n",
       "      <td>1.0</td>\n",
       "      <td>1.0</td>\n",
       "      <td>1.0</td>\n",
       "      <td>0.0</td>\n",
       "    </tr>\n",
       "  </tbody>\n",
       "</table>\n",
       "</div>"
      ],
      "text/plain": [
       "               bus    carrier  p_set   p_nom  p_max_pu  p_min_pu  \\\n",
       "Generator                                                          \n",
       "Amb1_geo   Ambon_1   Amb1_geo   15.0   600.0       1.0       0.0   \n",
       "Amb1_gas   Ambon_1   Amb1_gas   16.0  8000.0       1.0       0.0   \n",
       "Amb2_oil   Ambon_2   Amb2_oil   10.0  2000.0       1.0       0.0   \n",
       "Amb2_gas   Ambon_2   Amb2_gas    9.0  2000.0       1.0       0.0   \n",
       "Amb2_coal  Ambon_2  Amb2_coal   10.0   500.0       1.0       0.0   \n",
       "\n",
       "           p_nom_extendable  marginal_cost control type  p_nom_min  p_nom_max  \\\n",
       "Generator                                                                       \n",
       "Amb1_geo              False           50.0      PQ             0.0        inf   \n",
       "Amb1_gas              False           50.0      PQ             0.0        inf   \n",
       "Amb2_oil              False           55.0      PQ             0.0        inf   \n",
       "Amb2_gas              False           50.0      PQ             0.0        inf   \n",
       "Amb2_coal             False           30.0      PQ             0.0        inf   \n",
       "\n",
       "           q_set  sign  marginal_cost_quadratic  build_year  lifetime  \\\n",
       "Generator                                                               \n",
       "Amb1_geo     0.0   1.0                      0.0           0       inf   \n",
       "Amb1_gas     0.0   1.0                      0.0           0       inf   \n",
       "Amb2_oil     0.0   1.0                      0.0           0       inf   \n",
       "Amb2_gas     0.0   1.0                      0.0           0       inf   \n",
       "Amb2_coal    0.0   1.0                      0.0           0       inf   \n",
       "\n",
       "           capital_cost  efficiency  committable  start_up_cost  \\\n",
       "Generator                                                         \n",
       "Amb1_geo            0.0         1.0        False            0.0   \n",
       "Amb1_gas            0.0         1.0        False            0.0   \n",
       "Amb2_oil            0.0         1.0        False            0.0   \n",
       "Amb2_gas            0.0         1.0        False            0.0   \n",
       "Amb2_coal           0.0         1.0        False            0.0   \n",
       "\n",
       "           shut_down_cost  stand_by_cost  min_up_time  min_down_time  \\\n",
       "Generator                                                              \n",
       "Amb1_geo              0.0            0.0            0              0   \n",
       "Amb1_gas              0.0            0.0            0              0   \n",
       "Amb2_oil              0.0            0.0            0              0   \n",
       "Amb2_gas              0.0            0.0            0              0   \n",
       "Amb2_coal             0.0            0.0            0              0   \n",
       "\n",
       "           up_time_before  down_time_before  ramp_limit_up  ramp_limit_down  \\\n",
       "Generator                                                                     \n",
       "Amb1_geo                1                 0            NaN              NaN   \n",
       "Amb1_gas                1                 0            NaN              NaN   \n",
       "Amb2_oil                1                 0            NaN              NaN   \n",
       "Amb2_gas                1                 0            NaN              NaN   \n",
       "Amb2_coal               1                 0            NaN              NaN   \n",
       "\n",
       "           ramp_limit_start_up  ramp_limit_shut_down  weight  p_nom_opt  \n",
       "Generator                                                                \n",
       "Amb1_geo                   1.0                   1.0     1.0        0.0  \n",
       "Amb1_gas                   1.0                   1.0     1.0        0.0  \n",
       "Amb2_oil                   1.0                   1.0     1.0        0.0  \n",
       "Amb2_gas                   1.0                   1.0     1.0        0.0  \n",
       "Amb2_coal                  1.0                   1.0     1.0        0.0  "
      ]
     },
     "execution_count": 289,
     "metadata": {},
     "output_type": "execute_result"
    }
   ],
   "source": [
    "add_generators('generators.csv',0)"
   ]
  },
  {
   "cell_type": "markdown",
   "metadata": {},
   "source": [
    "### 5)Add load"
   ]
  },
  {
   "cell_type": "code",
   "execution_count": 290,
   "metadata": {},
   "outputs": [],
   "source": [
    "# Read excel file which contains Non renewable generators data\n",
    "\n",
    "def add_consumers(filename,header):\n",
    "    try:\n",
    "        load = pd.read_csv(filename, header=header)\n",
    "    except pd.errors.EmptyDataError:\n",
    "        print(\"The CSV file is empty.\")\n",
    "        return\n",
    "        \n",
    "    for index, row in load.iterrows():\n",
    "        network.add(\n",
    "            \"Load\",\n",
    "            name=row['name'],\n",
    "            bus=row['bus'],\n",
    "            p_set=row['load_MW'],\n",
    "            carrier=row['carrier']\n",
    "        )\n",
    "    return network.loads"
   ]
  },
  {
   "cell_type": "code",
   "execution_count": 291,
   "metadata": {},
   "outputs": [
    {
     "data": {
      "text/html": [
       "<div>\n",
       "<style scoped>\n",
       "    .dataframe tbody tr th:only-of-type {\n",
       "        vertical-align: middle;\n",
       "    }\n",
       "\n",
       "    .dataframe tbody tr th {\n",
       "        vertical-align: top;\n",
       "    }\n",
       "\n",
       "    .dataframe thead th {\n",
       "        text-align: right;\n",
       "    }\n",
       "</style>\n",
       "<table border=\"1\" class=\"dataframe\">\n",
       "  <thead>\n",
       "    <tr style=\"text-align: right;\">\n",
       "      <th>attribute</th>\n",
       "      <th>bus</th>\n",
       "      <th>carrier</th>\n",
       "      <th>type</th>\n",
       "      <th>p_set</th>\n",
       "      <th>q_set</th>\n",
       "      <th>sign</th>\n",
       "    </tr>\n",
       "    <tr>\n",
       "      <th>Load</th>\n",
       "      <th></th>\n",
       "      <th></th>\n",
       "      <th></th>\n",
       "      <th></th>\n",
       "      <th></th>\n",
       "      <th></th>\n",
       "    </tr>\n",
       "  </thead>\n",
       "  <tbody>\n",
       "    <tr>\n",
       "      <th>Amb1_elec</th>\n",
       "      <td>Ambon_1</td>\n",
       "      <td>AC</td>\n",
       "      <td></td>\n",
       "      <td>7000.0</td>\n",
       "      <td>0.0</td>\n",
       "      <td>-1.0</td>\n",
       "    </tr>\n",
       "    <tr>\n",
       "      <th>Amb2_elec</th>\n",
       "      <td>Ambon_2</td>\n",
       "      <td>AC</td>\n",
       "      <td></td>\n",
       "      <td>3000.0</td>\n",
       "      <td>0.0</td>\n",
       "      <td>-1.0</td>\n",
       "    </tr>\n",
       "  </tbody>\n",
       "</table>\n",
       "</div>"
      ],
      "text/plain": [
       "attribute      bus carrier type   p_set  q_set  sign\n",
       "Load                                                \n",
       "Amb1_elec  Ambon_1      AC       7000.0    0.0  -1.0\n",
       "Amb2_elec  Ambon_2      AC       3000.0    0.0  -1.0"
      ]
     },
     "execution_count": 291,
     "metadata": {},
     "output_type": "execute_result"
    }
   ],
   "source": [
    "add_consumers('consumers.csv',0)"
   ]
  },
  {
   "cell_type": "markdown",
   "metadata": {},
   "source": [
    "### 6)Add Transmission lines"
   ]
  },
  {
   "cell_type": "code",
   "execution_count": 292,
   "metadata": {},
   "outputs": [],
   "source": [
    "def add_lines(filename, header):\n",
    "    try:\n",
    "        lines = pd.read_csv(filename, header=header)\n",
    "    except pd.errors.EmptyDataError:\n",
    "        print(\"The CSV file is empty.\")\n",
    "        return\n",
    "        \n",
    "    for index, row in lines.iterrows():\n",
    "        network.add(\n",
    "            \"Line\",\n",
    "            \"{}_{}\".format(row['bus0'],row['bus1']),\n",
    "            bus0=row['bus0'],\n",
    "            bus1=row['bus1'],\n",
    "            s_nom=row['s_nom'],\n",
    "            x=1,\n",
    "            s_nom_extendable=row['s_nom_extendable']\n",
    "        )\n",
    "    return network.lines"
   ]
  },
  {
   "cell_type": "code",
   "execution_count": 293,
   "metadata": {},
   "outputs": [
    {
     "data": {
      "text/html": [
       "<div>\n",
       "<style scoped>\n",
       "    .dataframe tbody tr th:only-of-type {\n",
       "        vertical-align: middle;\n",
       "    }\n",
       "\n",
       "    .dataframe tbody tr th {\n",
       "        vertical-align: top;\n",
       "    }\n",
       "\n",
       "    .dataframe thead th {\n",
       "        text-align: right;\n",
       "    }\n",
       "</style>\n",
       "<table border=\"1\" class=\"dataframe\">\n",
       "  <thead>\n",
       "    <tr style=\"text-align: right;\">\n",
       "      <th>attribute</th>\n",
       "      <th>bus0</th>\n",
       "      <th>bus1</th>\n",
       "      <th>type</th>\n",
       "      <th>x</th>\n",
       "      <th>r</th>\n",
       "      <th>g</th>\n",
       "      <th>b</th>\n",
       "      <th>s_nom</th>\n",
       "      <th>s_nom_extendable</th>\n",
       "      <th>s_nom_min</th>\n",
       "      <th>s_nom_max</th>\n",
       "      <th>s_max_pu</th>\n",
       "      <th>capital_cost</th>\n",
       "      <th>build_year</th>\n",
       "      <th>lifetime</th>\n",
       "      <th>length</th>\n",
       "      <th>carrier</th>\n",
       "      <th>terrain_factor</th>\n",
       "      <th>num_parallel</th>\n",
       "      <th>v_ang_min</th>\n",
       "      <th>v_ang_max</th>\n",
       "      <th>sub_network</th>\n",
       "      <th>x_pu</th>\n",
       "      <th>r_pu</th>\n",
       "      <th>g_pu</th>\n",
       "      <th>b_pu</th>\n",
       "      <th>x_pu_eff</th>\n",
       "      <th>r_pu_eff</th>\n",
       "      <th>s_nom_opt</th>\n",
       "    </tr>\n",
       "    <tr>\n",
       "      <th>Line</th>\n",
       "      <th></th>\n",
       "      <th></th>\n",
       "      <th></th>\n",
       "      <th></th>\n",
       "      <th></th>\n",
       "      <th></th>\n",
       "      <th></th>\n",
       "      <th></th>\n",
       "      <th></th>\n",
       "      <th></th>\n",
       "      <th></th>\n",
       "      <th></th>\n",
       "      <th></th>\n",
       "      <th></th>\n",
       "      <th></th>\n",
       "      <th></th>\n",
       "      <th></th>\n",
       "      <th></th>\n",
       "      <th></th>\n",
       "      <th></th>\n",
       "      <th></th>\n",
       "      <th></th>\n",
       "      <th></th>\n",
       "      <th></th>\n",
       "      <th></th>\n",
       "      <th></th>\n",
       "      <th></th>\n",
       "      <th></th>\n",
       "      <th></th>\n",
       "    </tr>\n",
       "  </thead>\n",
       "  <tbody>\n",
       "    <tr>\n",
       "      <th>Ambon_1_Ambon_2</th>\n",
       "      <td>Ambon_1</td>\n",
       "      <td>Ambon_2</td>\n",
       "      <td></td>\n",
       "      <td>1.0</td>\n",
       "      <td>0.0</td>\n",
       "      <td>0.0</td>\n",
       "      <td>0.0</td>\n",
       "      <td>500.0</td>\n",
       "      <td>True</td>\n",
       "      <td>0.0</td>\n",
       "      <td>inf</td>\n",
       "      <td>1.0</td>\n",
       "      <td>0.0</td>\n",
       "      <td>0</td>\n",
       "      <td>inf</td>\n",
       "      <td>0.0</td>\n",
       "      <td></td>\n",
       "      <td>1.0</td>\n",
       "      <td>1.0</td>\n",
       "      <td>-inf</td>\n",
       "      <td>inf</td>\n",
       "      <td></td>\n",
       "      <td>0.0</td>\n",
       "      <td>0.0</td>\n",
       "      <td>0.0</td>\n",
       "      <td>0.0</td>\n",
       "      <td>0.0</td>\n",
       "      <td>0.0</td>\n",
       "      <td>0.0</td>\n",
       "    </tr>\n",
       "  </tbody>\n",
       "</table>\n",
       "</div>"
      ],
      "text/plain": [
       "attribute           bus0     bus1 type    x    r    g    b  s_nom  \\\n",
       "Line                                                                \n",
       "Ambon_1_Ambon_2  Ambon_1  Ambon_2       1.0  0.0  0.0  0.0  500.0   \n",
       "\n",
       "attribute        s_nom_extendable  s_nom_min  s_nom_max  s_max_pu  \\\n",
       "Line                                                                \n",
       "Ambon_1_Ambon_2              True        0.0        inf       1.0   \n",
       "\n",
       "attribute        capital_cost  build_year  lifetime  length carrier  \\\n",
       "Line                                                                  \n",
       "Ambon_1_Ambon_2           0.0           0       inf     0.0           \n",
       "\n",
       "attribute        terrain_factor  num_parallel  v_ang_min  v_ang_max  \\\n",
       "Line                                                                  \n",
       "Ambon_1_Ambon_2             1.0           1.0       -inf        inf   \n",
       "\n",
       "attribute       sub_network  x_pu  r_pu  g_pu  b_pu  x_pu_eff  r_pu_eff  \\\n",
       "Line                                                                      \n",
       "Ambon_1_Ambon_2               0.0   0.0   0.0   0.0       0.0       0.0   \n",
       "\n",
       "attribute        s_nom_opt  \n",
       "Line                        \n",
       "Ambon_1_Ambon_2        0.0  "
      ]
     },
     "execution_count": 293,
     "metadata": {},
     "output_type": "execute_result"
    }
   ],
   "source": [
    "add_lines('lines.csv',0)"
   ]
  },
  {
   "cell_type": "code",
   "execution_count": 294,
   "metadata": {},
   "outputs": [
    {
     "name": "stderr",
     "output_type": "stream",
     "text": [
      "INFO:pypsa.linopf:Prepare linear problem\n",
      "INFO:pypsa.linopf:Total preparation time: 0.17s\n",
      "INFO:pypsa.linopf:Solve linear problem using Glpk solver\n",
      "INFO:pypsa.linopf:Optimization successful. Objective value: 4.90e+05\n"
     ]
    },
    {
     "data": {
      "text/plain": [
       "50.0"
      ]
     },
     "execution_count": 294,
     "metadata": {},
     "output_type": "execute_result"
    }
   ],
   "source": [
    "network.lopf(solver_name='glpk')\n",
    "clearing_price = network.buses_t.marginal_price.iloc[0].max()\n",
    "clearing_price"
   ]
  },
  {
   "cell_type": "code",
   "execution_count": 295,
   "metadata": {},
   "outputs": [],
   "source": [
    "network.generators.assign(cap_MW=network.generators_t.p.mean()).groupby([\"carrier\"]).cap_MW.sum().to_frame().to_csv(\"results.csv\")"
   ]
  },
  {
   "cell_type": "code",
   "execution_count": 296,
   "metadata": {},
   "outputs": [
    {
     "data": {
      "text/html": [
       "<div>\n",
       "<style scoped>\n",
       "    .dataframe tbody tr th:only-of-type {\n",
       "        vertical-align: middle;\n",
       "    }\n",
       "\n",
       "    .dataframe tbody tr th {\n",
       "        vertical-align: top;\n",
       "    }\n",
       "\n",
       "    .dataframe thead th {\n",
       "        text-align: right;\n",
       "    }\n",
       "</style>\n",
       "<table border=\"1\" class=\"dataframe\">\n",
       "  <thead>\n",
       "    <tr style=\"text-align: right;\">\n",
       "      <th></th>\n",
       "      <th>bus</th>\n",
       "      <th>carrier</th>\n",
       "      <th>p_set</th>\n",
       "      <th>p_nom</th>\n",
       "      <th>p_max_pu</th>\n",
       "      <th>p_min_pu</th>\n",
       "      <th>p_nom_extendable</th>\n",
       "      <th>marginal_cost</th>\n",
       "      <th>control</th>\n",
       "      <th>type</th>\n",
       "      <th>p_nom_min</th>\n",
       "      <th>p_nom_max</th>\n",
       "      <th>q_set</th>\n",
       "      <th>sign</th>\n",
       "      <th>marginal_cost_quadratic</th>\n",
       "      <th>build_year</th>\n",
       "      <th>lifetime</th>\n",
       "      <th>capital_cost</th>\n",
       "      <th>efficiency</th>\n",
       "      <th>committable</th>\n",
       "      <th>start_up_cost</th>\n",
       "      <th>shut_down_cost</th>\n",
       "      <th>stand_by_cost</th>\n",
       "      <th>min_up_time</th>\n",
       "      <th>min_down_time</th>\n",
       "      <th>up_time_before</th>\n",
       "      <th>down_time_before</th>\n",
       "      <th>ramp_limit_up</th>\n",
       "      <th>ramp_limit_down</th>\n",
       "      <th>ramp_limit_start_up</th>\n",
       "      <th>ramp_limit_shut_down</th>\n",
       "      <th>weight</th>\n",
       "      <th>p_nom_opt</th>\n",
       "    </tr>\n",
       "    <tr>\n",
       "      <th>Generator</th>\n",
       "      <th></th>\n",
       "      <th></th>\n",
       "      <th></th>\n",
       "      <th></th>\n",
       "      <th></th>\n",
       "      <th></th>\n",
       "      <th></th>\n",
       "      <th></th>\n",
       "      <th></th>\n",
       "      <th></th>\n",
       "      <th></th>\n",
       "      <th></th>\n",
       "      <th></th>\n",
       "      <th></th>\n",
       "      <th></th>\n",
       "      <th></th>\n",
       "      <th></th>\n",
       "      <th></th>\n",
       "      <th></th>\n",
       "      <th></th>\n",
       "      <th></th>\n",
       "      <th></th>\n",
       "      <th></th>\n",
       "      <th></th>\n",
       "      <th></th>\n",
       "      <th></th>\n",
       "      <th></th>\n",
       "      <th></th>\n",
       "      <th></th>\n",
       "      <th></th>\n",
       "      <th></th>\n",
       "      <th></th>\n",
       "      <th></th>\n",
       "    </tr>\n",
       "  </thead>\n",
       "  <tbody>\n",
       "    <tr>\n",
       "      <th>Amb1_geo</th>\n",
       "      <td>Ambon_1</td>\n",
       "      <td>Amb1_geo</td>\n",
       "      <td>15.0</td>\n",
       "      <td>600.0</td>\n",
       "      <td>1.0</td>\n",
       "      <td>0.0</td>\n",
       "      <td>False</td>\n",
       "      <td>50.0</td>\n",
       "      <td>Slack</td>\n",
       "      <td></td>\n",
       "      <td>0.0</td>\n",
       "      <td>inf</td>\n",
       "      <td>0.0</td>\n",
       "      <td>1.0</td>\n",
       "      <td>0.0</td>\n",
       "      <td>0</td>\n",
       "      <td>inf</td>\n",
       "      <td>0.0</td>\n",
       "      <td>1.0</td>\n",
       "      <td>False</td>\n",
       "      <td>0.0</td>\n",
       "      <td>0.0</td>\n",
       "      <td>0.0</td>\n",
       "      <td>0</td>\n",
       "      <td>0</td>\n",
       "      <td>1</td>\n",
       "      <td>0</td>\n",
       "      <td>NaN</td>\n",
       "      <td>NaN</td>\n",
       "      <td>1.0</td>\n",
       "      <td>1.0</td>\n",
       "      <td>1.0</td>\n",
       "      <td>600.0</td>\n",
       "    </tr>\n",
       "    <tr>\n",
       "      <th>Amb1_gas</th>\n",
       "      <td>Ambon_1</td>\n",
       "      <td>Amb1_gas</td>\n",
       "      <td>16.0</td>\n",
       "      <td>8000.0</td>\n",
       "      <td>1.0</td>\n",
       "      <td>0.0</td>\n",
       "      <td>False</td>\n",
       "      <td>50.0</td>\n",
       "      <td>PQ</td>\n",
       "      <td></td>\n",
       "      <td>0.0</td>\n",
       "      <td>inf</td>\n",
       "      <td>0.0</td>\n",
       "      <td>1.0</td>\n",
       "      <td>0.0</td>\n",
       "      <td>0</td>\n",
       "      <td>inf</td>\n",
       "      <td>0.0</td>\n",
       "      <td>1.0</td>\n",
       "      <td>False</td>\n",
       "      <td>0.0</td>\n",
       "      <td>0.0</td>\n",
       "      <td>0.0</td>\n",
       "      <td>0</td>\n",
       "      <td>0</td>\n",
       "      <td>1</td>\n",
       "      <td>0</td>\n",
       "      <td>NaN</td>\n",
       "      <td>NaN</td>\n",
       "      <td>1.0</td>\n",
       "      <td>1.0</td>\n",
       "      <td>1.0</td>\n",
       "      <td>8000.0</td>\n",
       "    </tr>\n",
       "    <tr>\n",
       "      <th>Amb2_oil</th>\n",
       "      <td>Ambon_2</td>\n",
       "      <td>Amb2_oil</td>\n",
       "      <td>10.0</td>\n",
       "      <td>2000.0</td>\n",
       "      <td>1.0</td>\n",
       "      <td>0.0</td>\n",
       "      <td>False</td>\n",
       "      <td>55.0</td>\n",
       "      <td>PQ</td>\n",
       "      <td></td>\n",
       "      <td>0.0</td>\n",
       "      <td>inf</td>\n",
       "      <td>0.0</td>\n",
       "      <td>1.0</td>\n",
       "      <td>0.0</td>\n",
       "      <td>0</td>\n",
       "      <td>inf</td>\n",
       "      <td>0.0</td>\n",
       "      <td>1.0</td>\n",
       "      <td>False</td>\n",
       "      <td>0.0</td>\n",
       "      <td>0.0</td>\n",
       "      <td>0.0</td>\n",
       "      <td>0</td>\n",
       "      <td>0</td>\n",
       "      <td>1</td>\n",
       "      <td>0</td>\n",
       "      <td>NaN</td>\n",
       "      <td>NaN</td>\n",
       "      <td>1.0</td>\n",
       "      <td>1.0</td>\n",
       "      <td>1.0</td>\n",
       "      <td>2000.0</td>\n",
       "    </tr>\n",
       "    <tr>\n",
       "      <th>Amb2_gas</th>\n",
       "      <td>Ambon_2</td>\n",
       "      <td>Amb2_gas</td>\n",
       "      <td>9.0</td>\n",
       "      <td>2000.0</td>\n",
       "      <td>1.0</td>\n",
       "      <td>0.0</td>\n",
       "      <td>False</td>\n",
       "      <td>50.0</td>\n",
       "      <td>PQ</td>\n",
       "      <td></td>\n",
       "      <td>0.0</td>\n",
       "      <td>inf</td>\n",
       "      <td>0.0</td>\n",
       "      <td>1.0</td>\n",
       "      <td>0.0</td>\n",
       "      <td>0</td>\n",
       "      <td>inf</td>\n",
       "      <td>0.0</td>\n",
       "      <td>1.0</td>\n",
       "      <td>False</td>\n",
       "      <td>0.0</td>\n",
       "      <td>0.0</td>\n",
       "      <td>0.0</td>\n",
       "      <td>0</td>\n",
       "      <td>0</td>\n",
       "      <td>1</td>\n",
       "      <td>0</td>\n",
       "      <td>NaN</td>\n",
       "      <td>NaN</td>\n",
       "      <td>1.0</td>\n",
       "      <td>1.0</td>\n",
       "      <td>1.0</td>\n",
       "      <td>2000.0</td>\n",
       "    </tr>\n",
       "    <tr>\n",
       "      <th>Amb2_coal</th>\n",
       "      <td>Ambon_2</td>\n",
       "      <td>Amb2_coal</td>\n",
       "      <td>10.0</td>\n",
       "      <td>500.0</td>\n",
       "      <td>1.0</td>\n",
       "      <td>0.0</td>\n",
       "      <td>False</td>\n",
       "      <td>30.0</td>\n",
       "      <td>PQ</td>\n",
       "      <td></td>\n",
       "      <td>0.0</td>\n",
       "      <td>inf</td>\n",
       "      <td>0.0</td>\n",
       "      <td>1.0</td>\n",
       "      <td>0.0</td>\n",
       "      <td>0</td>\n",
       "      <td>inf</td>\n",
       "      <td>0.0</td>\n",
       "      <td>1.0</td>\n",
       "      <td>False</td>\n",
       "      <td>0.0</td>\n",
       "      <td>0.0</td>\n",
       "      <td>0.0</td>\n",
       "      <td>0</td>\n",
       "      <td>0</td>\n",
       "      <td>1</td>\n",
       "      <td>0</td>\n",
       "      <td>NaN</td>\n",
       "      <td>NaN</td>\n",
       "      <td>1.0</td>\n",
       "      <td>1.0</td>\n",
       "      <td>1.0</td>\n",
       "      <td>500.0</td>\n",
       "    </tr>\n",
       "  </tbody>\n",
       "</table>\n",
       "</div>"
      ],
      "text/plain": [
       "               bus    carrier  p_set   p_nom  p_max_pu  p_min_pu  \\\n",
       "Generator                                                          \n",
       "Amb1_geo   Ambon_1   Amb1_geo   15.0   600.0       1.0       0.0   \n",
       "Amb1_gas   Ambon_1   Amb1_gas   16.0  8000.0       1.0       0.0   \n",
       "Amb2_oil   Ambon_2   Amb2_oil   10.0  2000.0       1.0       0.0   \n",
       "Amb2_gas   Ambon_2   Amb2_gas    9.0  2000.0       1.0       0.0   \n",
       "Amb2_coal  Ambon_2  Amb2_coal   10.0   500.0       1.0       0.0   \n",
       "\n",
       "           p_nom_extendable  marginal_cost control type  p_nom_min  p_nom_max  \\\n",
       "Generator                                                                       \n",
       "Amb1_geo              False           50.0   Slack             0.0        inf   \n",
       "Amb1_gas              False           50.0      PQ             0.0        inf   \n",
       "Amb2_oil              False           55.0      PQ             0.0        inf   \n",
       "Amb2_gas              False           50.0      PQ             0.0        inf   \n",
       "Amb2_coal             False           30.0      PQ             0.0        inf   \n",
       "\n",
       "           q_set  sign  marginal_cost_quadratic  build_year  lifetime  \\\n",
       "Generator                                                               \n",
       "Amb1_geo     0.0   1.0                      0.0           0       inf   \n",
       "Amb1_gas     0.0   1.0                      0.0           0       inf   \n",
       "Amb2_oil     0.0   1.0                      0.0           0       inf   \n",
       "Amb2_gas     0.0   1.0                      0.0           0       inf   \n",
       "Amb2_coal    0.0   1.0                      0.0           0       inf   \n",
       "\n",
       "           capital_cost  efficiency  committable  start_up_cost  \\\n",
       "Generator                                                         \n",
       "Amb1_geo            0.0         1.0        False            0.0   \n",
       "Amb1_gas            0.0         1.0        False            0.0   \n",
       "Amb2_oil            0.0         1.0        False            0.0   \n",
       "Amb2_gas            0.0         1.0        False            0.0   \n",
       "Amb2_coal           0.0         1.0        False            0.0   \n",
       "\n",
       "           shut_down_cost  stand_by_cost  min_up_time  min_down_time  \\\n",
       "Generator                                                              \n",
       "Amb1_geo              0.0            0.0            0              0   \n",
       "Amb1_gas              0.0            0.0            0              0   \n",
       "Amb2_oil              0.0            0.0            0              0   \n",
       "Amb2_gas              0.0            0.0            0              0   \n",
       "Amb2_coal             0.0            0.0            0              0   \n",
       "\n",
       "           up_time_before  down_time_before  ramp_limit_up  ramp_limit_down  \\\n",
       "Generator                                                                     \n",
       "Amb1_geo                1                 0            NaN              NaN   \n",
       "Amb1_gas                1                 0            NaN              NaN   \n",
       "Amb2_oil                1                 0            NaN              NaN   \n",
       "Amb2_gas                1                 0            NaN              NaN   \n",
       "Amb2_coal               1                 0            NaN              NaN   \n",
       "\n",
       "           ramp_limit_start_up  ramp_limit_shut_down  weight  p_nom_opt  \n",
       "Generator                                                                \n",
       "Amb1_geo                   1.0                   1.0     1.0      600.0  \n",
       "Amb1_gas                   1.0                   1.0     1.0     8000.0  \n",
       "Amb2_oil                   1.0                   1.0     1.0     2000.0  \n",
       "Amb2_gas                   1.0                   1.0     1.0     2000.0  \n",
       "Amb2_coal                  1.0                   1.0     1.0      500.0  "
      ]
     },
     "execution_count": 296,
     "metadata": {},
     "output_type": "execute_result"
    }
   ],
   "source": [
    "network.generators"
   ]
  },
  {
   "cell_type": "markdown",
   "metadata": {},
   "source": [
    "### 10)Visualization of results"
   ]
  },
  {
   "cell_type": "code",
   "execution_count": 297,
   "metadata": {},
   "outputs": [
    {
     "data": {
      "text/plain": [
       "bus      carrier  \n",
       "Ambon_1  Amb1_gas     1.38\n",
       "         Amb1_geo     0.12\n",
       "Ambon_2  Amb2_coal    0.10\n",
       "         Amb2_gas     0.40\n",
       "         Amb2_oil     0.00\n",
       "Name: g, dtype: float64"
      ]
     },
     "execution_count": 297,
     "metadata": {},
     "output_type": "execute_result"
    }
   ],
   "source": [
    "bus_sizes=network.generators.assign(g=network.generators_t.p.mean()).groupby([\"bus\", \"carrier\"]).g.sum()/5000\n",
    "bus_sizes"
   ]
  },
  {
   "cell_type": "code",
   "execution_count": 304,
   "metadata": {},
   "outputs": [],
   "source": [
    "def plot_graphs():\n",
    "    unique_carriers = network.generators.carrier.index.unique()\n",
    "    plot_graph=network.plot(\n",
    "        bus_sizes=network.generators.assign(g=network.generators_t.p.mean()).groupby([\"bus\", \"carrier\"]).g.sum()/6000000,\n",
    "        bus_colors = {bus: plt.cm.viridis(i / len(unique_carriers)) for i, bus in enumerate(unique_carriers)},\n",
    "        margin=1,\n",
    "        line_widths=5,\n",
    "        link_widths=5,\n",
    "        flow=pd.Series(round(network.lines_t.p0.iloc[0]) , index=network.branches().index),\n",
    "        color_geomap=True,\n",
    "        projection=ccrs.EqualEarth(),\n",
    "        line_colors=network.lines_t.p0.mean().abs(),\n",
    "    )\n",
    "    return plt.colorbar(plot_graph[2], fraction=0.04, pad=0.004, label=\"Flow in MW\"),plt.show()\n",
    "    "
   ]
  },
  {
   "cell_type": "code",
   "execution_count": 305,
   "metadata": {},
   "outputs": [
    {
     "name": "stderr",
     "output_type": "stream",
     "text": [
      "c:\\Users\\par19744\\.conda\\envs\\PyPSA\\Lib\\site-packages\\cartopy\\mpl\\style.py:76: UserWarning:\n",
      "\n",
      "facecolor will have no effect as it has been defined as \"never\".\n",
      "\n"
     ]
    },
    {
     "data": {
      "image/png": "[encoded data removed]",
      "text/plain": [
       "<Figure size 1000x800 with 2 Axes>"
      ]
     },
     "metadata": {},
     "output_type": "display_data"
    },
    {
     "data": {
      "text/plain": [
       "(<matplotlib.colorbar.Colorbar at 0x242f69d1210>, None)"
      ]
     },
     "execution_count": 305,
     "metadata": {},
     "output_type": "execute_result"
    }
   ],
   "source": [
    "plot_graphs()"
   ]
  },
  {
   "cell_type": "code",
   "execution_count": 301,
   "metadata": {},
   "outputs": [
    {
     "data": {
      "application/vnd.plotly.v1+json": {
       "config": {
        "plotlyServerURL": "https://plot.ly"
       },
       "data": [
        {
         "hoverinfo": "none",
         "lat": [
          -3.591,
          -3.702
         ],
         "line": {
          "color": "blue",
          "width": 2
         },
         "lon": [
          128.336,
          128.177
         ],
         "mode": "lines",
         "type": "scattergeo"
        },
        {
         "lat": [
          -3.591,
          -3.702
         ],
         "lon": [
          128.336,
          128.177
         ],
         "marker": {
          "color": "red",
          "line": {
           "color": "black",
           "width": 2
          },
          "size": 10
         },
         "mode": "markers",
         "text": [
          "Ambon_1",
          "Ambon_2"
         ],
         "type": "scattergeo"
        }
       ],
       "layout": {
        "annotations": [
         {
          "font": {
           "size": 16
          },
          "showarrow": false,
          "text": "Network Topology",
          "x": 0.5,
          "xanchor": "center",
          "xref": "paper",
          "y": 1,
          "yanchor": "bottom",
          "yref": "paper"
         }
        ],
        "geo": {
         "center": {
          "lat": -3.6465,
          "lon": 128.25650000000002
         },
         "projection": {
          "scale": 300
         },
         "visible": false
        },
        "showlegend": false,
        "template": {
         "data": {
          "bar": [
           {
            "error_x": {
             "color": "#2a3f5f"
            },
            "error_y": {
             "color": "#2a3f5f"
            },
            "marker": {
             "line": {
              "color": "#E5ECF6",
              "width": 0.5
             },
             "pattern": {
              "fillmode": "overlay",
              "size": 10,
              "solidity": 0.2
             }
            },
            "type": "bar"
           }
          ],
          "barpolar": [
           {
            "marker": {
             "line": {
              "color": "#E5ECF6",
              "width": 0.5
             },
             "pattern": {
              "fillmode": "overlay",
              "size": 10,
              "solidity": 0.2
             }
            },
            "type": "barpolar"
           }
          ],
          "carpet": [
           {
            "aaxis": {
             "endlinecolor": "#2a3f5f",
             "gridcolor": "white",
             "linecolor": "white",
             "minorgridcolor": "white",
             "startlinecolor": "#2a3f5f"
            },
            "baxis": {
             "endlinecolor": "#2a3f5f",
             "gridcolor": "white",
             "linecolor": "white",
             "minorgridcolor": "white",
             "startlinecolor": "#2a3f5f"
            },
            "type": "carpet"
           }
          ],
          "choropleth": [
           {
            "colorbar": {
             "outlinewidth": 0,
             "ticks": ""
            },
            "type": "choropleth"
           }
          ],
          "contour": [
           {
            "colorbar": {
             "outlinewidth": 0,
             "ticks": ""
            },
            "colorscale": [
             [
              0,
              "#0d0887"
             ],
             [
              0.1111111111111111,
              "#46039f"
             ],
             [
              0.2222222222222222,
              "#7201a8"
             ],
             [
              0.3333333333333333,
              "#9c179e"
             ],
             [
              0.4444444444444444,
              "#bd3786"
             ],
             [
              0.5555555555555556,
              "#d8576b"
             ],
             [
              0.6666666666666666,
              "#ed7953"
             ],
             [
              0.7777777777777778,
              "#fb9f3a"
             ],
             [
              0.8888888888888888,
              "#fdca26"
             ],
             [
              1,
              "#f0f921"
             ]
            ],
            "type": "contour"
           }
          ],
          "contourcarpet": [
           {
            "colorbar": {
             "outlinewidth": 0,
             "ticks": ""
            },
            "type": "contourcarpet"
           }
          ],
          "heatmap": [
           {
            "colorbar": {
             "outlinewidth": 0,
             "ticks": ""
            },
            "colorscale": [
             [
              0,
              "#0d0887"
             ],
             [
              0.1111111111111111,
              "#46039f"
             ],
             [
              0.2222222222222222,
              "#7201a8"
             ],
             [
              0.3333333333333333,
              "#9c179e"
             ],
             [
              0.4444444444444444,
              "#bd3786"
             ],
             [
              0.5555555555555556,
              "#d8576b"
             ],
             [
              0.6666666666666666,
              "#ed7953"
             ],
             [
              0.7777777777777778,
              "#fb9f3a"
             ],
             [
              0.8888888888888888,
              "#fdca26"
             ],
             [
              1,
              "#f0f921"
             ]
            ],
            "type": "heatmap"
           }
          ],
          "heatmapgl": [
           {
            "colorbar": {
             "outlinewidth": 0,
             "ticks": ""
            },
            "colorscale": [
             [
              0,
              "#0d0887"
             ],
             [
              0.1111111111111111,
              "#46039f"
             ],
             [
              0.2222222222222222,
              "#7201a8"
             ],
             [
              0.3333333333333333,
              "#9c179e"
             ],
             [
              0.4444444444444444,
              "#bd3786"
             ],
             [
              0.5555555555555556,
              "#d8576b"
             ],
             [
              0.6666666666666666,
              "#ed7953"
             ],
             [
              0.7777777777777778,
              "#fb9f3a"
             ],
             [
              0.8888888888888888,
              "#fdca26"
             ],
             [
              1,
              "#f0f921"
             ]
            ],
            "type": "heatmapgl"
           }
          ],
          "histogram": [
           {
            "marker": {
             "pattern": {
              "fillmode": "overlay",
              "size": 10,
              "solidity": 0.2
             }
            },
            "type": "histogram"
           }
          ],
          "histogram2d": [
           {
            "colorbar": {
             "outlinewidth": 0,
             "ticks": ""
            },
            "colorscale": [
             [
              0,
              "#0d0887"
             ],
             [
              0.1111111111111111,
              "#46039f"
             ],
             [
              0.2222222222222222,
              "#7201a8"
             ],
             [
              0.3333333333333333,
              "#9c179e"
             ],
             [
              0.4444444444444444,
              "#bd3786"
             ],
             [
              0.5555555555555556,
              "#d8576b"
             ],
             [
              0.6666666666666666,
              "#ed7953"
             ],
             [
              0.7777777777777778,
              "#fb9f3a"
             ],
             [
              0.8888888888888888,
              "#fdca26"
             ],
             [
              1,
              "#f0f921"
             ]
            ],
            "type": "histogram2d"
           }
          ],
          "histogram2dcontour": [
           {
            "colorbar": {
             "outlinewidth": 0,
             "ticks": ""
            },
            "colorscale": [
             [
              0,
              "#0d0887"
             ],
             [
              0.1111111111111111,
              "#46039f"
             ],
             [
              0.2222222222222222,
              "#7201a8"
             ],
             [
              0.3333333333333333,
              "#9c179e"
             ],
             [
              0.4444444444444444,
              "#bd3786"
             ],
             [
              0.5555555555555556,
              "#d8576b"
             ],
             [
              0.6666666666666666,
              "#ed7953"
             ],
             [
              0.7777777777777778,
              "#fb9f3a"
             ],
             [
              0.8888888888888888,
              "#fdca26"
             ],
             [
              1,
              "#f0f921"
             ]
            ],
            "type": "histogram2dcontour"
           }
          ],
          "mesh3d": [
           {
            "colorbar": {
             "outlinewidth": 0,
             "ticks": ""
            },
            "type": "mesh3d"
           }
          ],
          "parcoords": [
           {
            "line": {
             "colorbar": {
              "outlinewidth": 0,
              "ticks": ""
             }
            },
            "type": "parcoords"
           }
          ],
          "pie": [
           {
            "automargin": true,
            "type": "pie"
           }
          ],
          "scatter": [
           {
            "fillpattern": {
             "fillmode": "overlay",
             "size": 10,
             "solidity": 0.2
            },
            "type": "scatter"
           }
          ],
          "scatter3d": [
           {
            "line": {
             "colorbar": {
              "outlinewidth": 0,
              "ticks": ""
             }
            },
            "marker": {
             "colorbar": {
              "outlinewidth": 0,
              "ticks": ""
             }
            },
            "type": "scatter3d"
           }
          ],
          "scattercarpet": [
           {
            "marker": {
             "colorbar": {
              "outlinewidth": 0,
              "ticks": ""
             }
            },
            "type": "scattercarpet"
           }
          ],
          "scattergeo": [
           {
            "marker": {
             "colorbar": {
              "outlinewidth": 0,
              "ticks": ""
             }
            },
            "type": "scattergeo"
           }
          ],
          "scattergl": [
           {
            "marker": {
             "colorbar": {
              "outlinewidth": 0,
              "ticks": ""
             }
            },
            "type": "scattergl"
           }
          ],
          "scattermapbox": [
           {
            "marker": {
             "colorbar": {
              "outlinewidth": 0,
              "ticks": ""
             }
            },
            "type": "scattermapbox"
           }
          ],
          "scatterpolar": [
           {
            "marker": {
             "colorbar": {
              "outlinewidth": 0,
              "ticks": ""
             }
            },
            "type": "scatterpolar"
           }
          ],
          "scatterpolargl": [
           {
            "marker": {
             "colorbar": {
              "outlinewidth": 0,
              "ticks": ""
             }
            },
            "type": "scatterpolargl"
           }
          ],
          "scatterternary": [
           {
            "marker": {
             "colorbar": {
              "outlinewidth": 0,
              "ticks": ""
             }
            },
            "type": "scatterternary"
           }
          ],
          "surface": [
           {
            "colorbar": {
             "outlinewidth": 0,
             "ticks": ""
            },
            "colorscale": [
             [
              0,
              "#0d0887"
             ],
             [
              0.1111111111111111,
              "#46039f"
             ],
             [
              0.2222222222222222,
              "#7201a8"
             ],
             [
              0.3333333333333333,
              "#9c179e"
             ],
             [
              0.4444444444444444,
              "#bd3786"
             ],
             [
              0.5555555555555556,
              "#d8576b"
             ],
             [
              0.6666666666666666,
              "#ed7953"
             ],
             [
              0.7777777777777778,
              "#fb9f3a"
             ],
             [
              0.8888888888888888,
              "#fdca26"
             ],
             [
              1,
              "#f0f921"
             ]
            ],
            "type": "surface"
           }
          ],
          "table": [
           {
            "cells": {
             "fill": {
              "color": "#EBF0F8"
             },
             "line": {
              "color": "white"
             }
            },
            "header": {
             "fill": {
              "color": "#C8D4E3"
             },
             "line": {
              "color": "white"
             }
            },
            "type": "table"
           }
          ]
         },
         "layout": {
          "annotationdefaults": {
           "arrowcolor": "#2a3f5f",
           "arrowhead": 0,
           "arrowwidth": 1
          },
          "autotypenumbers": "strict",
          "coloraxis": {
           "colorbar": {
            "outlinewidth": 0,
            "ticks": ""
           }
          },
          "colorscale": {
           "diverging": [
            [
             0,
             "#8e0152"
            ],
            [
             0.1,
             "#c51b7d"
            ],
            [
             0.2,
             "#de77ae"
            ],
            [
             0.3,
             "#f1b6da"
            ],
            [
             0.4,
             "#fde0ef"
            ],
            [
             0.5,
             "#f7f7f7"
            ],
            [
             0.6,
             "#e6f5d0"
            ],
            [
             0.7,
             "#b8e186"
            ],
            [
             0.8,
             "#7fbc41"
            ],
            [
             0.9,
             "#4d9221"
            ],
            [
             1,
             "#276419"
            ]
           ],
           "sequential": [
            [
             0,
             "#0d0887"
            ],
            [
             0.1111111111111111,
             "#46039f"
            ],
            [
             0.2222222222222222,
             "#7201a8"
            ],
            [
             0.3333333333333333,
             "#9c179e"
            ],
            [
             0.4444444444444444,
             "#bd3786"
            ],
            [
             0.5555555555555556,
             "#d8576b"
            ],
            [
             0.6666666666666666,
             "#ed7953"
            ],
            [
             0.7777777777777778,
             "#fb9f3a"
            ],
            [
             0.8888888888888888,
             "#fdca26"
            ],
            [
             1,
             "#f0f921"
            ]
           ],
           "sequentialminus": [
            [
             0,
             "#0d0887"
            ],
            [
             0.1111111111111111,
             "#46039f"
            ],
            [
             0.2222222222222222,
             "#7201a8"
            ],
            [
             0.3333333333333333,
             "#9c179e"
            ],
            [
             0.4444444444444444,
             "#bd3786"
            ],
            [
             0.5555555555555556,
             "#d8576b"
            ],
            [
             0.6666666666666666,
             "#ed7953"
            ],
            [
             0.7777777777777778,
             "#fb9f3a"
            ],
            [
             0.8888888888888888,
             "#fdca26"
            ],
            [
             1,
             "#f0f921"
            ]
           ]
          },
          "colorway": [
           "#636efa",
           "#EF553B",
           "#00cc96",
           "#ab63fa",
           "#FFA15A",
           "#19d3f3",
           "#FF6692",
           "#B6E880",
           "#FF97FF",
           "#FECB52"
          ],
          "font": {
           "color": "#2a3f5f"
          },
          "geo": {
           "bgcolor": "white",
           "lakecolor": "white",
           "landcolor": "#E5ECF6",
           "showlakes": true,
           "showland": true,
           "subunitcolor": "white"
          },
          "hoverlabel": {
           "align": "left"
          },
          "hovermode": "closest",
          "mapbox": {
           "style": "light"
          },
          "paper_bgcolor": "white",
          "plot_bgcolor": "#E5ECF6",
          "polar": {
           "angularaxis": {
            "gridcolor": "white",
            "linecolor": "white",
            "ticks": ""
           },
           "bgcolor": "#E5ECF6",
           "radialaxis": {
            "gridcolor": "white",
            "linecolor": "white",
            "ticks": ""
           }
          },
          "scene": {
           "xaxis": {
            "backgroundcolor": "#E5ECF6",
            "gridcolor": "white",
            "gridwidth": 2,
            "linecolor": "white",
            "showbackground": true,
            "ticks": "",
            "zerolinecolor": "white"
           },
           "yaxis": {
            "backgroundcolor": "#E5ECF6",
            "gridcolor": "white",
            "gridwidth": 2,
            "linecolor": "white",
            "showbackground": true,
            "ticks": "",
            "zerolinecolor": "white"
           },
           "zaxis": {
            "backgroundcolor": "#E5ECF6",
            "gridcolor": "white",
            "gridwidth": 2,
            "linecolor": "white",
            "showbackground": true,
            "ticks": "",
            "zerolinecolor": "white"
           }
          },
          "shapedefaults": {
           "line": {
            "color": "#2a3f5f"
           }
          },
          "ternary": {
           "aaxis": {
            "gridcolor": "white",
            "linecolor": "white",
            "ticks": ""
           },
           "baxis": {
            "gridcolor": "white",
            "linecolor": "white",
            "ticks": ""
           },
           "bgcolor": "#E5ECF6",
           "caxis": {
            "gridcolor": "white",
            "linecolor": "white",
            "ticks": ""
           }
          },
          "title": {
           "x": 0.05
          },
          "xaxis": {
           "automargin": true,
           "gridcolor": "white",
           "linecolor": "white",
           "ticks": "",
           "title": {
            "standoff": 15
           },
           "zerolinecolor": "white",
           "zerolinewidth": 2
          },
          "yaxis": {
           "automargin": true,
           "gridcolor": "white",
           "linecolor": "white",
           "ticks": "",
           "title": {
            "standoff": 15
           },
           "zerolinecolor": "white",
           "zerolinewidth": 2
          }
         }
        },
        "xaxis": {
         "anchor": "y",
         "domain": [
          0,
          1
         ]
        },
        "yaxis": {
         "anchor": "x",
         "domain": [
          0,
          1
         ]
        }
       }
      }
     },
     "metadata": {},
     "output_type": "display_data"
    }
   ],
   "source": [
    "import plotly.graph_objects as go\n",
    "from plotly.subplots import make_subplots\n",
    "\n",
    "def plotly_network(network):\n",
    "    fig = make_subplots(rows=1, cols=1, subplot_titles=[\"Network Topology\"])\n",
    "\n",
    "    # Plot Buses\n",
    "    bus_trace = go.Scattergeo(\n",
    "        lat=network.buses[\"y\"],\n",
    "        lon=network.buses[\"x\"],\n",
    "        mode=\"markers\",\n",
    "        marker=dict(\n",
    "            size=10,\n",
    "            color=\"red\",\n",
    "            line=dict(width=2, color=\"black\")\n",
    "        ),\n",
    "        text=network.buses.index\n",
    "    )\n",
    "\n",
    "    # Plot Lines\n",
    "    for _, line in network.lines.iterrows():\n",
    "        bus0 = network.buses.loc[line[\"bus0\"], [\"x\", \"y\"]]\n",
    "        bus1 = network.buses.loc[line[\"bus1\"], [\"x\", \"y\"]]\n",
    "        line_trace = go.Scattergeo(\n",
    "            lat=[bus0[\"y\"], bus1[\"y\"]],\n",
    "            lon=[bus0[\"x\"], bus1[\"x\"]],\n",
    "            mode=\"lines\",\n",
    "            line=dict(width=2, color=\"blue\"),\n",
    "            hoverinfo=\"none\"\n",
    "        )\n",
    "        fig.add_trace(line_trace)\n",
    "\n",
    "    fig.add_trace(bus_trace)\n",
    "\n",
    "    fig.update_layout(\n",
    "        geo=dict(\n",
    "            projection_scale=300,\n",
    "            center=dict(lat=network.buses[\"y\"].mean(), lon=network.buses[\"x\"].mean()),\n",
    "            visible=False\n",
    "        ),\n",
    "        showlegend=False\n",
    "    )\n",
    "\n",
    "    fig.show()\n",
    "\n",
    "# Assuming you have a network object\n",
    "plotly_network(network)"
   ]
  }
 ],
 "metadata": {
  "@webio": {
   "lastCommId": null,
   "lastKernelId": null
  },
  "kernelspec": {
   "display_name": "Python 3.11.6 ('PyPSA')",
   "language": "python",
   "name": "python3"
  },
  "language_info": {
   "codemirror_mode": {
    "name": "ipython",
    "version": 3
   },
   "file_extension": ".py",
   "mimetype": "text/x-python",
   "name": "python",
   "nbconvert_exporter": "python",
   "pygments_lexer": "ipython3",
   "version": "3.11.6"
  },
  "vscode": {
   "interpreter": {
    "hash": "9362ac2cf2c17960d79fda7a8ec755c04e96fd0061c81d467f9ff311b94f59c5"
   }
  }
 },
 "nbformat": 4,
 "nbformat_minor": 1
}
