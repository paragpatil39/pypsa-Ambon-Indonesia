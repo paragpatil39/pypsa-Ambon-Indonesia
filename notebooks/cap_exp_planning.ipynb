{
 "cells": [
  {
   "attachments": {},
   "cell_type": "markdown",
   "metadata": {},
   "source": [
    "### Example 1: 2 node system"
   ]
  },
  {
   "attachments": {},
   "cell_type": "markdown",
   "metadata": {},
   "source": [
    "#### Importing packages"
   ]
  },
  {
   "cell_type": "code",
   "execution_count": 32,
   "metadata": {},
   "outputs": [],
   "source": [
    "import pypsa\n",
    "import pandas as pd\n",
    "import numpy as np\n",
    "import matplotlib.pyplot as plt\n",
    "import networkx as nx\n",
    "import cartopy as ccrs\n",
    "plt.style.use('bmh')\n",
    "import os"
   ]
  },
  {
   "attachments": {},
   "cell_type": "markdown",
   "metadata": {},
   "source": [
    "#### Step 1:Fuel & Powerplant data(Costs, efficiency)"
   ]
  },
  {
   "cell_type": "code",
   "execution_count": 33,
   "metadata": {},
   "outputs": [],
   "source": [
    "year = 2030\n",
    "url = f\"https://raw.githubusercontent.com/PyPSA/technology-data/master/outputs/costs_{year}.csv\"\n",
    "costs = pd.read_csv(url, index_col=[0,1])\n",
    "#costs = pd.read_csv(\"..\\data\\costs.csv\")#, index_col=[0,1])"
   ]
  },
  {
   "cell_type": "code",
   "execution_count": 34,
   "metadata": {},
   "outputs": [],
   "source": [
    "costs.loc[costs.unit.str.contains(\"/kW\"), \"value\"] *= 1e3\n",
    "costs.unit = costs.unit.str.replace(\"/kW\", \"/MW\")"
   ]
  },
  {
   "cell_type": "code",
   "execution_count": 35,
   "metadata": {},
   "outputs": [],
   "source": [
    "defaults = {\n",
    "    \"FOM\": 0,\n",
    "    \"VOM\": 0,\n",
    "    \"efficiency\": 1,\n",
    "    \"fuel\": 0,\n",
    "    \"investment\": 0,\n",
    "    \"lifetime\": 25,\n",
    "    \"CO2 intensity\": 0,\n",
    "    \"discount rate\": 0.07,\n",
    "}"
   ]
  },
  {
   "cell_type": "code",
   "execution_count": 36,
   "metadata": {},
   "outputs": [],
   "source": [
    "costs = costs.value.unstack().fillna(defaults)"
   ]
  },
  {
   "cell_type": "code",
   "execution_count": 37,
   "metadata": {},
   "outputs": [],
   "source": [
    "costs.at[\"OCGT\", \"fuel\"] = costs.at[\"gas\", \"fuel\"]\n",
    "costs.at[\"CCGT\", \"fuel\"] = costs.at[\"gas\", \"fuel\"]\n",
    "costs.at[\"OCGT\", \"CO2 intensity\"] = costs.at[\"gas\", \"CO2 intensity\"]\n",
    "costs.at[\"CCGT\", \"CO2 intensity\"] = costs.at[\"gas\", \"CO2 intensity\"]"
   ]
  },
  {
   "cell_type": "code",
   "execution_count": 38,
   "metadata": {},
   "outputs": [],
   "source": [
    "costs = costs.fillna(defaults)"
   ]
  },
  {
   "cell_type": "code",
   "execution_count": 39,
   "metadata": {},
   "outputs": [],
   "source": [
    "def annuity(r, n):\n",
    "    return r / (1.0 - 1.0 / (1.0 + r) ** n)"
   ]
  },
  {
   "cell_type": "code",
   "execution_count": 40,
   "metadata": {},
   "outputs": [
    {
     "data": {
      "text/html": [
       "<div>\n",
       "<style scoped>\n",
       "    .dataframe tbody tr th:only-of-type {\n",
       "        vertical-align: middle;\n",
       "    }\n",
       "\n",
       "    .dataframe tbody tr th {\n",
       "        vertical-align: top;\n",
       "    }\n",
       "\n",
       "    .dataframe thead th {\n",
       "        text-align: right;\n",
       "    }\n",
       "</style>\n",
       "<table border=\"1\" class=\"dataframe\">\n",
       "  <thead>\n",
       "    <tr style=\"text-align: right;\">\n",
       "      <th>parameter</th>\n",
       "      <th>C in fuel</th>\n",
       "      <th>C stored</th>\n",
       "      <th>CO2 intensity</th>\n",
       "      <th>CO2 stored</th>\n",
       "      <th>FOM</th>\n",
       "      <th>VOM</th>\n",
       "      <th>ammonia-input</th>\n",
       "      <th>c_b</th>\n",
       "      <th>c_v</th>\n",
       "      <th>capacity</th>\n",
       "      <th>...</th>\n",
       "      <th>hydrogen-input</th>\n",
       "      <th>investment</th>\n",
       "      <th>lifetime</th>\n",
       "      <th>lohc-input</th>\n",
       "      <th>methane-input</th>\n",
       "      <th>methanol-input</th>\n",
       "      <th>min_fill_level</th>\n",
       "      <th>nitrogen-input</th>\n",
       "      <th>p_nom_ratio</th>\n",
       "      <th>pelletizing cost</th>\n",
       "    </tr>\n",
       "    <tr>\n",
       "      <th>technology</th>\n",
       "      <th></th>\n",
       "      <th></th>\n",
       "      <th></th>\n",
       "      <th></th>\n",
       "      <th></th>\n",
       "      <th></th>\n",
       "      <th></th>\n",
       "      <th></th>\n",
       "      <th></th>\n",
       "      <th></th>\n",
       "      <th></th>\n",
       "      <th></th>\n",
       "      <th></th>\n",
       "      <th></th>\n",
       "      <th></th>\n",
       "      <th></th>\n",
       "      <th></th>\n",
       "      <th></th>\n",
       "      <th></th>\n",
       "      <th></th>\n",
       "      <th></th>\n",
       "    </tr>\n",
       "  </thead>\n",
       "  <tbody>\n",
       "    <tr>\n",
       "      <th>Ammonia cracker</th>\n",
       "      <td>NaN</td>\n",
       "      <td>NaN</td>\n",
       "      <td>0.0</td>\n",
       "      <td>NaN</td>\n",
       "      <td>4.30</td>\n",
       "      <td>0.0</td>\n",
       "      <td>1.46</td>\n",
       "      <td>NaN</td>\n",
       "      <td>NaN</td>\n",
       "      <td>NaN</td>\n",
       "      <td>...</td>\n",
       "      <td>NaN</td>\n",
       "      <td>1062107.74</td>\n",
       "      <td>25.0</td>\n",
       "      <td>NaN</td>\n",
       "      <td>NaN</td>\n",
       "      <td>NaN</td>\n",
       "      <td>NaN</td>\n",
       "      <td>NaN</td>\n",
       "      <td>NaN</td>\n",
       "      <td>NaN</td>\n",
       "    </tr>\n",
       "    <tr>\n",
       "      <th>BioSNG</th>\n",
       "      <td>0.34</td>\n",
       "      <td>0.66</td>\n",
       "      <td>0.0</td>\n",
       "      <td>0.24</td>\n",
       "      <td>1.64</td>\n",
       "      <td>1.7</td>\n",
       "      <td>NaN</td>\n",
       "      <td>NaN</td>\n",
       "      <td>NaN</td>\n",
       "      <td>NaN</td>\n",
       "      <td>...</td>\n",
       "      <td>NaN</td>\n",
       "      <td>1600000.00</td>\n",
       "      <td>25.0</td>\n",
       "      <td>NaN</td>\n",
       "      <td>NaN</td>\n",
       "      <td>NaN</td>\n",
       "      <td>NaN</td>\n",
       "      <td>NaN</td>\n",
       "      <td>NaN</td>\n",
       "      <td>NaN</td>\n",
       "    </tr>\n",
       "  </tbody>\n",
       "</table>\n",
       "<p>2 rows × 35 columns</p>\n",
       "</div>"
      ],
      "text/plain": [
       "parameter        C in fuel  C stored  CO2 intensity  CO2 stored   FOM  VOM   \n",
       "technology                                                                   \n",
       "Ammonia cracker        NaN       NaN            0.0         NaN  4.30  0.0  \\\n",
       "BioSNG                0.34      0.66            0.0        0.24  1.64  1.7   \n",
       "\n",
       "parameter        ammonia-input  c_b  c_v  capacity  ...  hydrogen-input   \n",
       "technology                                          ...                   \n",
       "Ammonia cracker           1.46  NaN  NaN       NaN  ...             NaN  \\\n",
       "BioSNG                     NaN  NaN  NaN       NaN  ...             NaN   \n",
       "\n",
       "parameter        investment  lifetime  lohc-input  methane-input   \n",
       "technology                                                         \n",
       "Ammonia cracker  1062107.74      25.0         NaN            NaN  \\\n",
       "BioSNG           1600000.00      25.0         NaN            NaN   \n",
       "\n",
       "parameter        methanol-input  min_fill_level  nitrogen-input  p_nom_ratio   \n",
       "technology                                                                     \n",
       "Ammonia cracker             NaN             NaN             NaN          NaN  \\\n",
       "BioSNG                      NaN             NaN             NaN          NaN   \n",
       "\n",
       "parameter        pelletizing cost  \n",
       "technology                         \n",
       "Ammonia cracker               NaN  \n",
       "BioSNG                        NaN  \n",
       "\n",
       "[2 rows x 35 columns]"
      ]
     },
     "execution_count": 40,
     "metadata": {},
     "output_type": "execute_result"
    }
   ],
   "source": [
    "costs.head(2)"
   ]
  },
  {
   "cell_type": "code",
   "execution_count": 41,
   "metadata": {},
   "outputs": [],
   "source": [
    "costs[\"marginal_cost\"] = costs[\"VOM\"] + costs[\"fuel\"] / costs[\"efficiency\"]"
   ]
  },
  {
   "cell_type": "code",
   "execution_count": 42,
   "metadata": {},
   "outputs": [],
   "source": [
    "annuity = costs.apply(lambda x: annuity(x[\"discount rate\"], x[\"lifetime\"]), axis=1)"
   ]
  },
  {
   "cell_type": "code",
   "execution_count": 43,
   "metadata": {},
   "outputs": [],
   "source": [
    "costs[\"capital_cost\"] = (annuity + costs[\"FOM\"] / 100) * costs[\"investment\"]"
   ]
  },
  {
   "attachments": {},
   "cell_type": "markdown",
   "metadata": {},
   "source": [
    "#### Loading time series data"
   ]
  },
  {
   "cell_type": "code",
   "execution_count": 67,
   "metadata": {},
   "outputs": [],
   "source": [
    "os.chdir(\"c:\\\\Users\\\\par19744\\\\Python_projects\")"
   ]
  },
  {
   "cell_type": "code",
   "execution_count": 68,
   "metadata": {},
   "outputs": [
    {
     "data": {
      "text/plain": [
       "'c:\\\\Users\\\\par19744\\\\Python_projects'"
      ]
     },
     "execution_count": 68,
     "metadata": {},
     "output_type": "execute_result"
    }
   ],
   "source": [
    "os.getcwd()"
   ]
  },
  {
   "cell_type": "code",
   "execution_count": 69,
   "metadata": {},
   "outputs": [],
   "source": [
    "#url = \"https://tubcloud.tu-berlin.de/s/pKttFadrbTKSJKF/download/time-series-lecture-2.csv\"\n",
    "ts = pd.read_csv(\"timeseries.csv\", index_col=0, parse_dates=True)"
   ]
  },
  {
   "cell_type": "code",
   "execution_count": 70,
   "metadata": {},
   "outputs": [
    {
     "data": {
      "text/html": [
       "<div>\n",
       "<style scoped>\n",
       "    .dataframe tbody tr th:only-of-type {\n",
       "        vertical-align: middle;\n",
       "    }\n",
       "\n",
       "    .dataframe tbody tr th {\n",
       "        vertical-align: top;\n",
       "    }\n",
       "\n",
       "    .dataframe thead th {\n",
       "        text-align: right;\n",
       "    }\n",
       "</style>\n",
       "<table border=\"1\" class=\"dataframe\">\n",
       "  <thead>\n",
       "    <tr style=\"text-align: right;\">\n",
       "      <th></th>\n",
       "      <th>load</th>\n",
       "      <th>onwind</th>\n",
       "      <th>offwind</th>\n",
       "      <th>solar</th>\n",
       "      <th>prices</th>\n",
       "    </tr>\n",
       "  </thead>\n",
       "  <tbody>\n",
       "    <tr>\n",
       "      <th>2015-01-01 00:00:00</th>\n",
       "      <td>41.151</td>\n",
       "      <td>0.1566</td>\n",
       "      <td>0.7030</td>\n",
       "      <td>0.0</td>\n",
       "      <td>NaN</td>\n",
       "    </tr>\n",
       "    <tr>\n",
       "      <th>2015-01-01 01:00:00</th>\n",
       "      <td>40.135</td>\n",
       "      <td>0.1659</td>\n",
       "      <td>0.6875</td>\n",
       "      <td>0.0</td>\n",
       "      <td>NaN</td>\n",
       "    </tr>\n",
       "    <tr>\n",
       "      <th>2015-01-01 02:00:00</th>\n",
       "      <td>39.106</td>\n",
       "      <td>0.1746</td>\n",
       "      <td>0.6535</td>\n",
       "      <td>0.0</td>\n",
       "      <td>NaN</td>\n",
       "    </tr>\n",
       "    <tr>\n",
       "      <th>2015-01-01 03:00:00</th>\n",
       "      <td>38.765</td>\n",
       "      <td>0.1745</td>\n",
       "      <td>0.6803</td>\n",
       "      <td>0.0</td>\n",
       "      <td>NaN</td>\n",
       "    </tr>\n",
       "    <tr>\n",
       "      <th>2015-01-01 04:00:00</th>\n",
       "      <td>38.941</td>\n",
       "      <td>0.1826</td>\n",
       "      <td>0.7272</td>\n",
       "      <td>0.0</td>\n",
       "      <td>NaN</td>\n",
       "    </tr>\n",
       "    <tr>\n",
       "      <th>...</th>\n",
       "      <td>...</td>\n",
       "      <td>...</td>\n",
       "      <td>...</td>\n",
       "      <td>...</td>\n",
       "      <td>...</td>\n",
       "    </tr>\n",
       "    <tr>\n",
       "      <th>2015-12-31 19:00:00</th>\n",
       "      <td>47.719</td>\n",
       "      <td>0.1388</td>\n",
       "      <td>0.4434</td>\n",
       "      <td>0.0</td>\n",
       "      <td>36.79</td>\n",
       "    </tr>\n",
       "    <tr>\n",
       "      <th>2015-12-31 20:00:00</th>\n",
       "      <td>45.911</td>\n",
       "      <td>0.1211</td>\n",
       "      <td>0.4023</td>\n",
       "      <td>0.0</td>\n",
       "      <td>28.81</td>\n",
       "    </tr>\n",
       "    <tr>\n",
       "      <th>2015-12-31 21:00:00</th>\n",
       "      <td>45.611</td>\n",
       "      <td>0.1082</td>\n",
       "      <td>0.4171</td>\n",
       "      <td>0.0</td>\n",
       "      <td>26.27</td>\n",
       "    </tr>\n",
       "    <tr>\n",
       "      <th>2015-12-31 22:00:00</th>\n",
       "      <td>43.762</td>\n",
       "      <td>0.1026</td>\n",
       "      <td>0.4716</td>\n",
       "      <td>0.0</td>\n",
       "      <td>29.99</td>\n",
       "    </tr>\n",
       "    <tr>\n",
       "      <th>2015-12-31 23:00:00</th>\n",
       "      <td>41.905</td>\n",
       "      <td>0.0975</td>\n",
       "      <td>0.5239</td>\n",
       "      <td>0.0</td>\n",
       "      <td>31.59</td>\n",
       "    </tr>\n",
       "  </tbody>\n",
       "</table>\n",
       "<p>8760 rows × 5 columns</p>\n",
       "</div>"
      ],
      "text/plain": [
       "                       load  onwind  offwind  solar  prices\n",
       "2015-01-01 00:00:00  41.151  0.1566   0.7030    0.0     NaN\n",
       "2015-01-01 01:00:00  40.135  0.1659   0.6875    0.0     NaN\n",
       "2015-01-01 02:00:00  39.106  0.1746   0.6535    0.0     NaN\n",
       "2015-01-01 03:00:00  38.765  0.1745   0.6803    0.0     NaN\n",
       "2015-01-01 04:00:00  38.941  0.1826   0.7272    0.0     NaN\n",
       "...                     ...     ...      ...    ...     ...\n",
       "2015-12-31 19:00:00  47.719  0.1388   0.4434    0.0   36.79\n",
       "2015-12-31 20:00:00  45.911  0.1211   0.4023    0.0   28.81\n",
       "2015-12-31 21:00:00  45.611  0.1082   0.4171    0.0   26.27\n",
       "2015-12-31 22:00:00  43.762  0.1026   0.4716    0.0   29.99\n",
       "2015-12-31 23:00:00  41.905  0.0975   0.5239    0.0   31.59\n",
       "\n",
       "[8760 rows x 5 columns]"
      ]
     },
     "execution_count": 70,
     "metadata": {},
     "output_type": "execute_result"
    }
   ],
   "source": [
    "ts"
   ]
  },
  {
   "cell_type": "code",
   "execution_count": 71,
   "metadata": {},
   "outputs": [],
   "source": [
    "resolution = 4\n",
    "ts = ts.resample(f\"{resolution}H\").first()"
   ]
  },
  {
   "cell_type": "code",
   "execution_count": 86,
   "metadata": {},
   "outputs": [
    {
     "data": {
      "text/plain": [
       "2015-01-01 00:00:00    0.1566\n",
       "2015-01-01 04:00:00    0.1826\n",
       "2015-01-01 08:00:00    0.2281\n",
       "2015-01-01 12:00:00    0.2384\n",
       "2015-01-01 16:00:00    0.3828\n",
       "                        ...  \n",
       "2015-12-31 04:00:00    0.4099\n",
       "2015-12-31 08:00:00    0.3269\n",
       "2015-12-31 12:00:00    0.2319\n",
       "2015-12-31 16:00:00    0.1942\n",
       "2015-12-31 20:00:00    0.1211\n",
       "Freq: 4H, Name: onwind, Length: 2190, dtype: float64"
      ]
     },
     "execution_count": 86,
     "metadata": {},
     "output_type": "execute_result"
    }
   ],
   "source": [
    "ts['onwind']"
   ]
  },
  {
   "attachments": {},
   "cell_type": "markdown",
   "metadata": {},
   "source": [
    "#### Step 2: Model Initialization"
   ]
  },
  {
   "cell_type": "code",
   "execution_count": 73,
   "metadata": {},
   "outputs": [],
   "source": [
    "# A) Create a network object\n",
    "n=pypsa.Network()"
   ]
  },
  {
   "cell_type": "code",
   "execution_count": 74,
   "metadata": {},
   "outputs": [],
   "source": [
    "# B) Add buses\n",
    "n.add(\"Bus\", \"electricity\")\n",
    "#n.add(\"Bus\", \"Ambon_1\", y=13.4, x=52.5, v_nom=400, carrier='AC')#Ambon_1\n",
    "#n.add(\"Bus\", \"Ambon_2\", y=14.3, x=51.7, v_nom=400, carrier='AC') #Ambon_2"
   ]
  },
  {
   "cell_type": "code",
   "execution_count": 75,
   "metadata": {},
   "outputs": [],
   "source": [
    "# C) Add snapshots to the network\n",
    "n.set_snapshots(ts.index)"
   ]
  },
  {
   "cell_type": "code",
   "execution_count": 76,
   "metadata": {},
   "outputs": [
    {
     "data": {
      "text/plain": [
       "DatetimeIndex(['2015-01-01 00:00:00', '2015-01-01 04:00:00',\n",
       "               '2015-01-01 08:00:00', '2015-01-01 12:00:00',\n",
       "               '2015-01-01 16:00:00', '2015-01-01 20:00:00',\n",
       "               '2015-01-02 00:00:00', '2015-01-02 04:00:00',\n",
       "               '2015-01-02 08:00:00', '2015-01-02 12:00:00',\n",
       "               ...\n",
       "               '2015-12-30 08:00:00', '2015-12-30 12:00:00',\n",
       "               '2015-12-30 16:00:00', '2015-12-30 20:00:00',\n",
       "               '2015-12-31 00:00:00', '2015-12-31 04:00:00',\n",
       "               '2015-12-31 08:00:00', '2015-12-31 12:00:00',\n",
       "               '2015-12-31 16:00:00', '2015-12-31 20:00:00'],\n",
       "              dtype='datetime64[ns]', name='snapshot', length=2190, freq='4H')"
      ]
     },
     "execution_count": 76,
     "metadata": {},
     "output_type": "execute_result"
    }
   ],
   "source": [
    "n.snapshots"
   ]
  },
  {
   "cell_type": "code",
   "execution_count": 77,
   "metadata": {},
   "outputs": [
    {
     "data": {
      "text/html": [
       "<div>\n",
       "<style scoped>\n",
       "    .dataframe tbody tr th:only-of-type {\n",
       "        vertical-align: middle;\n",
       "    }\n",
       "\n",
       "    .dataframe tbody tr th {\n",
       "        vertical-align: top;\n",
       "    }\n",
       "\n",
       "    .dataframe thead th {\n",
       "        text-align: right;\n",
       "    }\n",
       "</style>\n",
       "<table border=\"1\" class=\"dataframe\">\n",
       "  <thead>\n",
       "    <tr style=\"text-align: right;\">\n",
       "      <th></th>\n",
       "      <th>objective</th>\n",
       "      <th>stores</th>\n",
       "      <th>generators</th>\n",
       "    </tr>\n",
       "    <tr>\n",
       "      <th>snapshot</th>\n",
       "      <th></th>\n",
       "      <th></th>\n",
       "      <th></th>\n",
       "    </tr>\n",
       "  </thead>\n",
       "  <tbody>\n",
       "    <tr>\n",
       "      <th>2015-01-01 00:00:00</th>\n",
       "      <td>1.0</td>\n",
       "      <td>1.0</td>\n",
       "      <td>1.0</td>\n",
       "    </tr>\n",
       "    <tr>\n",
       "      <th>2015-01-01 04:00:00</th>\n",
       "      <td>1.0</td>\n",
       "      <td>1.0</td>\n",
       "      <td>1.0</td>\n",
       "    </tr>\n",
       "    <tr>\n",
       "      <th>2015-01-01 08:00:00</th>\n",
       "      <td>1.0</td>\n",
       "      <td>1.0</td>\n",
       "      <td>1.0</td>\n",
       "    </tr>\n",
       "    <tr>\n",
       "      <th>2015-01-01 12:00:00</th>\n",
       "      <td>1.0</td>\n",
       "      <td>1.0</td>\n",
       "      <td>1.0</td>\n",
       "    </tr>\n",
       "    <tr>\n",
       "      <th>2015-01-01 16:00:00</th>\n",
       "      <td>1.0</td>\n",
       "      <td>1.0</td>\n",
       "      <td>1.0</td>\n",
       "    </tr>\n",
       "    <tr>\n",
       "      <th>2015-01-01 20:00:00</th>\n",
       "      <td>1.0</td>\n",
       "      <td>1.0</td>\n",
       "      <td>1.0</td>\n",
       "    </tr>\n",
       "    <tr>\n",
       "      <th>2015-01-02 00:00:00</th>\n",
       "      <td>1.0</td>\n",
       "      <td>1.0</td>\n",
       "      <td>1.0</td>\n",
       "    </tr>\n",
       "    <tr>\n",
       "      <th>2015-01-02 04:00:00</th>\n",
       "      <td>1.0</td>\n",
       "      <td>1.0</td>\n",
       "      <td>1.0</td>\n",
       "    </tr>\n",
       "    <tr>\n",
       "      <th>2015-01-02 08:00:00</th>\n",
       "      <td>1.0</td>\n",
       "      <td>1.0</td>\n",
       "      <td>1.0</td>\n",
       "    </tr>\n",
       "    <tr>\n",
       "      <th>2015-01-02 12:00:00</th>\n",
       "      <td>1.0</td>\n",
       "      <td>1.0</td>\n",
       "      <td>1.0</td>\n",
       "    </tr>\n",
       "  </tbody>\n",
       "</table>\n",
       "</div>"
      ],
      "text/plain": [
       "                     objective  stores  generators\n",
       "snapshot                                          \n",
       "2015-01-01 00:00:00        1.0     1.0         1.0\n",
       "2015-01-01 04:00:00        1.0     1.0         1.0\n",
       "2015-01-01 08:00:00        1.0     1.0         1.0\n",
       "2015-01-01 12:00:00        1.0     1.0         1.0\n",
       "2015-01-01 16:00:00        1.0     1.0         1.0\n",
       "2015-01-01 20:00:00        1.0     1.0         1.0\n",
       "2015-01-02 00:00:00        1.0     1.0         1.0\n",
       "2015-01-02 04:00:00        1.0     1.0         1.0\n",
       "2015-01-02 08:00:00        1.0     1.0         1.0\n",
       "2015-01-02 12:00:00        1.0     1.0         1.0"
      ]
     },
     "execution_count": 77,
     "metadata": {},
     "output_type": "execute_result"
    }
   ],
   "source": [
    "n.snapshot_weightings.head(10)"
   ]
  },
  {
   "cell_type": "code",
   "execution_count": 78,
   "metadata": {},
   "outputs": [],
   "source": [
    "n.snapshot_weightings.loc[:,:] = resolution"
   ]
  },
  {
   "cell_type": "code",
   "execution_count": 79,
   "metadata": {},
   "outputs": [
    {
     "data": {
      "text/html": [
       "<div>\n",
       "<style scoped>\n",
       "    .dataframe tbody tr th:only-of-type {\n",
       "        vertical-align: middle;\n",
       "    }\n",
       "\n",
       "    .dataframe tbody tr th {\n",
       "        vertical-align: top;\n",
       "    }\n",
       "\n",
       "    .dataframe thead th {\n",
       "        text-align: right;\n",
       "    }\n",
       "</style>\n",
       "<table border=\"1\" class=\"dataframe\">\n",
       "  <thead>\n",
       "    <tr style=\"text-align: right;\">\n",
       "      <th></th>\n",
       "      <th>objective</th>\n",
       "      <th>stores</th>\n",
       "      <th>generators</th>\n",
       "    </tr>\n",
       "    <tr>\n",
       "      <th>snapshot</th>\n",
       "      <th></th>\n",
       "      <th></th>\n",
       "      <th></th>\n",
       "    </tr>\n",
       "  </thead>\n",
       "  <tbody>\n",
       "    <tr>\n",
       "      <th>2015-01-01 00:00:00</th>\n",
       "      <td>4.0</td>\n",
       "      <td>4.0</td>\n",
       "      <td>4.0</td>\n",
       "    </tr>\n",
       "    <tr>\n",
       "      <th>2015-01-01 04:00:00</th>\n",
       "      <td>4.0</td>\n",
       "      <td>4.0</td>\n",
       "      <td>4.0</td>\n",
       "    </tr>\n",
       "    <tr>\n",
       "      <th>2015-01-01 08:00:00</th>\n",
       "      <td>4.0</td>\n",
       "      <td>4.0</td>\n",
       "      <td>4.0</td>\n",
       "    </tr>\n",
       "    <tr>\n",
       "      <th>2015-01-01 12:00:00</th>\n",
       "      <td>4.0</td>\n",
       "      <td>4.0</td>\n",
       "      <td>4.0</td>\n",
       "    </tr>\n",
       "    <tr>\n",
       "      <th>2015-01-01 16:00:00</th>\n",
       "      <td>4.0</td>\n",
       "      <td>4.0</td>\n",
       "      <td>4.0</td>\n",
       "    </tr>\n",
       "    <tr>\n",
       "      <th>2015-01-01 20:00:00</th>\n",
       "      <td>4.0</td>\n",
       "      <td>4.0</td>\n",
       "      <td>4.0</td>\n",
       "    </tr>\n",
       "    <tr>\n",
       "      <th>2015-01-02 00:00:00</th>\n",
       "      <td>4.0</td>\n",
       "      <td>4.0</td>\n",
       "      <td>4.0</td>\n",
       "    </tr>\n",
       "    <tr>\n",
       "      <th>2015-01-02 04:00:00</th>\n",
       "      <td>4.0</td>\n",
       "      <td>4.0</td>\n",
       "      <td>4.0</td>\n",
       "    </tr>\n",
       "    <tr>\n",
       "      <th>2015-01-02 08:00:00</th>\n",
       "      <td>4.0</td>\n",
       "      <td>4.0</td>\n",
       "      <td>4.0</td>\n",
       "    </tr>\n",
       "    <tr>\n",
       "      <th>2015-01-02 12:00:00</th>\n",
       "      <td>4.0</td>\n",
       "      <td>4.0</td>\n",
       "      <td>4.0</td>\n",
       "    </tr>\n",
       "  </tbody>\n",
       "</table>\n",
       "</div>"
      ],
      "text/plain": [
       "                     objective  stores  generators\n",
       "snapshot                                          \n",
       "2015-01-01 00:00:00        4.0     4.0         4.0\n",
       "2015-01-01 04:00:00        4.0     4.0         4.0\n",
       "2015-01-01 08:00:00        4.0     4.0         4.0\n",
       "2015-01-01 12:00:00        4.0     4.0         4.0\n",
       "2015-01-01 16:00:00        4.0     4.0         4.0\n",
       "2015-01-01 20:00:00        4.0     4.0         4.0\n",
       "2015-01-02 00:00:00        4.0     4.0         4.0\n",
       "2015-01-02 04:00:00        4.0     4.0         4.0\n",
       "2015-01-02 08:00:00        4.0     4.0         4.0\n",
       "2015-01-02 12:00:00        4.0     4.0         4.0"
      ]
     },
     "execution_count": 79,
     "metadata": {},
     "output_type": "execute_result"
    }
   ],
   "source": [
    "n.snapshot_weightings.head(10)"
   ]
  },
  {
   "cell_type": "code",
   "execution_count": 80,
   "metadata": {},
   "outputs": [
    {
     "data": {
      "text/plain": [
       "Index(['onwind', 'offwind', 'solar', 'OCGT', 'hydrogen storage underground',\n",
       "       'battery storage'],\n",
       "      dtype='object')"
      ]
     },
     "execution_count": 80,
     "metadata": {},
     "output_type": "execute_result"
    }
   ],
   "source": [
    "# D) Add carriers with emissions associated with it\n",
    "carriers = [\"onwind\", \"offwind\", \"solar\", \"OCGT\", \"hydrogen storage underground\", \"battery storage\"]\n",
    "n.madd(\n",
    "    \"Carrier\",\n",
    "    carriers, \n",
    "    color=[\"dodgerblue\", \"aquamarine\", \"gold\", \"indianred\", \"magenta\", \"yellowgreen\"],\n",
    "    co2_emissions=[costs.at[c, \"CO2 intensity\"] for c in carriers]\n",
    ")"
   ]
  },
  {
   "cell_type": "code",
   "execution_count": 81,
   "metadata": {},
   "outputs": [],
   "source": [
    "# E) Add demand time series\n",
    "n.add(\n",
    "    \"Load\",\n",
    "    \"demand\",\n",
    "    bus=\"electricity\",\n",
    "    p_set=ts.load,\n",
    ")"
   ]
  },
  {
   "cell_type": "code",
   "execution_count": 82,
   "metadata": {},
   "outputs": [
    {
     "data": {
      "text/plain": [
       "<AxesSubplot:xlabel='snapshot', ylabel='MW'>"
      ]
     },
     "execution_count": 82,
     "metadata": {},
     "output_type": "execute_result"
    },
    {
     "data": {
      "image/png": "[encoded data removed]",
      "text/plain": [
       "<Figure size 900x300 with 1 Axes>"
      ]
     },
     "metadata": {},
     "output_type": "display_data"
    }
   ],
   "source": [
    "n.loads_t.p_set.plot(figsize=(9,3), ylabel=\"MW\")"
   ]
  },
  {
   "cell_type": "code",
   "execution_count": 83,
   "metadata": {},
   "outputs": [],
   "source": [
    "# F) Add generators #dispatchable\n",
    "n.add(\n",
    "    \"Generator\",\n",
    "    \"OCGT\",\n",
    "    bus='electricity',\n",
    "    carrier=\"OCGT\",\n",
    "    capital_cost=costs.at[\"OCGT\", \"capital_cost\"],\n",
    "    marginal_cost=costs.at[\"OCGT\", \"marginal_cost\"],\n",
    "    efficiency=costs.at[\"OCGT\", \"efficiency\"],\n",
    "    p_nom_extendable=True,\n",
    ")"
   ]
  },
  {
   "cell_type": "code",
   "execution_count": 84,
   "metadata": {},
   "outputs": [],
   "source": [
    "# G) Add generators Renewable\n",
    "for tech in [\"onwind\", \"offwind\", \"solar\"]:\n",
    "    n.add(\n",
    "        \"Generator\",\n",
    "        tech,\n",
    "        bus='electricity',\n",
    "        carrier=tech,\n",
    "        p_max_pu=ts[tech],\n",
    "        capital_cost=costs.at[tech, \"capital_cost\"],\n",
    "        marginal_cost=costs.at[tech, \"marginal_cost\"],\n",
    "        efficiency=costs.at[tech, \"efficiency\"],\n",
    "        p_nom_extendable=True,\n",
    "    )"
   ]
  },
  {
   "cell_type": "code",
   "execution_count": 116,
   "metadata": {},
   "outputs": [
    {
     "data": {
      "text/plain": [
       "<AxesSubplot:xlabel='snapshot', ylabel='CF'>"
      ]
     },
     "execution_count": 116,
     "metadata": {},
     "output_type": "execute_result"
    },
    {
     "data": {
      "image/png": "[encoded data removed]",
      "text/plain": [
       "<Figure size 600x200 with 1 Axes>"
      ]
     },
     "metadata": {},
     "output_type": "display_data"
    }
   ],
   "source": [
    "n.generators_t.p_max_pu.loc[\"2015-07\"].plot(figsize=(6,2), ylabel=\"CF\")"
   ]
  },
  {
   "attachments": {},
   "cell_type": "markdown",
   "metadata": {},
   "source": [
    "#### Step 3) Run the model and print the optimization results"
   ]
  },
  {
   "attachments": {},
   "cell_type": "markdown",
   "metadata": {},
   "source": [
    "##### A) Solve the model"
   ]
  },
  {
   "cell_type": "code",
   "execution_count": 117,
   "metadata": {},
   "outputs": [
    {
     "name": "stderr",
     "output_type": "stream",
     "text": [
      "INFO:pypsa.linopf:Prepare linear problem\n",
      "INFO:pypsa.linopf:Total preparation time: 0.22s\n",
      "INFO:pypsa.linopf:Solve linear problem using Glpk solver\n",
      "INFO:pypsa.linopf:Optimization successful. Objective value: 2.75e+07\n"
     ]
    },
    {
     "data": {
      "text/plain": [
       "('ok', 'optimal')"
      ]
     },
     "execution_count": 117,
     "metadata": {},
     "output_type": "execute_result"
    }
   ],
   "source": [
    "n.lopf(solver_name='glpk')"
   ]
  },
  {
   "attachments": {},
   "cell_type": "markdown",
   "metadata": {},
   "source": [
    "##### B) Optimized capacity (GW) & Energy generation(TWh)"
   ]
  },
  {
   "cell_type": "code",
   "execution_count": 118,
   "metadata": {},
   "outputs": [
    {
     "data": {
      "text/plain": [
       "Generator\n",
       "OCGT       0.070182\n",
       "onwind     0.000000\n",
       "offwind    0.042400\n",
       "solar      0.082323\n",
       "Name: p_nom_opt, dtype: float64"
      ]
     },
     "execution_count": 118,
     "metadata": {},
     "output_type": "execute_result"
    }
   ],
   "source": [
    "# Optimized capacity in GW\n",
    "n.generators.p_nom_opt.div(1e3)"
   ]
  },
  {
   "cell_type": "code",
   "execution_count": 119,
   "metadata": {},
   "outputs": [
    {
     "data": {
      "text/plain": [
       "Generator\n",
       "OCGT       0.258400\n",
       "onwind     0.000000\n",
       "offwind    0.131445\n",
       "solar      0.089080\n",
       "Name: generators, dtype: float64"
      ]
     },
     "execution_count": 119,
     "metadata": {},
     "output_type": "execute_result"
    }
   ],
   "source": [
    "# The total energy generation by technology in GW:\n",
    "n.snapshot_weightings.generators @ n.generators_t.p.div(1e6) # TWh"
   ]
  },
  {
   "attachments": {},
   "cell_type": "markdown",
   "metadata": {},
   "source": [
    "##### C) Print various Costs ( Total, capex, opex)"
   ]
  },
  {
   "cell_type": "code",
   "execution_count": 120,
   "metadata": {},
   "outputs": [
    {
     "data": {
      "text/plain": [
       "0.02753228923"
      ]
     },
     "execution_count": 120,
     "metadata": {},
     "output_type": "execute_result"
    }
   ],
   "source": [
    "# The total system cost in billion Euros per year:\n",
    "n.objective / 1e9"
   ]
  },
  {
   "cell_type": "code",
   "execution_count": 121,
   "metadata": {},
   "outputs": [
    {
     "name": "stdout",
     "output_type": "stream",
     "text": [
      "Generator\n",
      "OCGT       3.164897\n",
      "onwind     0.000000\n",
      "offwind    6.704369\n",
      "solar      3.828770\n",
      "dtype: float64 Generator\n",
      "OCGT       13.830724\n",
      "onwind      0.000000\n",
      "offwind     0.002629\n",
      "solar       0.000891\n",
      "Name: generators, dtype: float64\n"
     ]
    }
   ],
   "source": [
    "# Costs M€/a\n",
    "opex = n.snapshot_weightings.generators @ (n.generators_t.p * n.generators.marginal_cost).div(1e6) # M€/a\n",
    "capex = (n.generators.p_nom_opt * n.generators.capital_cost).div(1e6) # M€/a\n",
    "print(capex, opex) # M€/a"
   ]
  },
  {
   "cell_type": "code",
   "execution_count": 122,
   "metadata": {},
   "outputs": [
    {
     "data": {
      "text/plain": [
       "           carrier\n",
       "Generator  OCGT       16.995622\n",
       "           offwind     6.706998\n",
       "           onwind      0.000000\n",
       "           solar       3.829661\n",
       "dtype: float64"
      ]
     },
     "execution_count": 122,
     "metadata": {},
     "output_type": "execute_result"
    }
   ],
   "source": [
    "#Total system cost by technology M€/a\n",
    "(n.statistics.capex() + n.statistics.opex(aggregate_time='sum')).div(1e6)"
   ]
  },
  {
   "attachments": {},
   "cell_type": "markdown",
   "metadata": {},
   "source": [
    "##"
   ]
  },
  {
   "attachments": {},
   "cell_type": "markdown",
   "metadata": {},
   "source": [
    "##### D) Emissions (t/h)"
   ]
  },
  {
   "cell_type": "code",
   "execution_count": 123,
   "metadata": {},
   "outputs": [],
   "source": [
    "emissions = n.generators_t.p / n.generators.efficiency * n.generators.carrier.map(n.carriers.co2_emissions) # t/h"
   ]
  },
  {
   "cell_type": "code",
   "execution_count": 124,
   "metadata": {},
   "outputs": [
    {
     "data": {
      "text/plain": [
       "0.12604898053502442"
      ]
     },
     "execution_count": 124,
     "metadata": {},
     "output_type": "execute_result"
    }
   ],
   "source": [
    "n.snapshot_weightings.generators @ emissions.sum(axis=1).div(1e6) # Mt"
   ]
  },
  {
   "attachments": {},
   "cell_type": "markdown",
   "metadata": {},
   "source": [
    "#### E) Plotting optimal dispatch"
   ]
  },
  {
   "attachments": {},
   "cell_type": "markdown",
   "metadata": {},
   "source": [
    "This function takes the network object `n` as an argument and, optionally, a time frame. We want to plot the load time series, and stacked area charts for electricity feed-in and storage charging. Technologies should be coloured by their color defined in `n.carriers`."
   ]
  },
  {
   "cell_type": "code",
   "execution_count": 125,
   "metadata": {},
   "outputs": [],
   "source": [
    "def plot_dispatch(n, time=\"2015-07\"):\n",
    "    \n",
    "    p_by_carrier = n.generators_t.p.groupby(n.generators.carrier, axis=1).sum().div(1e3)\n",
    "    \n",
    "    if not n.storage_units.empty:\n",
    "        sto = n.storage_units_t.p.groupby(n.storage_units.carrier, axis=1).sum().div(1e3)\n",
    "        p_by_carrier = pd.concat([p_by_carrier, sto], axis=1)\n",
    "    \n",
    "    fig, ax = plt.subplots(figsize=(6, 3))\n",
    "    \n",
    "    color = p_by_carrier.columns.map(n.carriers.color)\n",
    "    \n",
    "    p_by_carrier.where(p_by_carrier>0).loc[time].plot.area(\n",
    "        ax=ax,\n",
    "        linewidth=0,\n",
    "        color=color,\n",
    "    )\n",
    "    \n",
    "    charge = p_by_carrier.where(p_by_carrier<0).dropna(how='all', axis=1).loc[time]\n",
    "    \n",
    "    if not charge.empty:\n",
    "\n",
    "        charge.plot.area(\n",
    "            ax=ax,\n",
    "            linewidth=0,\n",
    "            color=charge.columns.map(n.carriers.color),\n",
    "        )\n",
    "    \n",
    "    n.loads_t.p_set.sum(axis=1).loc[time].div(1e3).plot(ax=ax, c='k')\n",
    "\n",
    "    plt.legend(loc=(1.05,0))\n",
    "    ax.set_ylabel(\"GW\")\n",
    "    ax.set_ylim(-200, 200)"
   ]
  },
  {
   "cell_type": "code",
   "execution_count": 126,
   "metadata": {},
   "outputs": [
    {
     "data": {
      "image/png": "[encoded data removed]",
      "text/plain": [
       "<Figure size 600x300 with 1 Axes>"
      ]
     },
     "metadata": {},
     "output_type": "display_data"
    }
   ],
   "source": [
    "plot_dispatch(n)"
   ]
  },
  {
   "attachments": {},
   "cell_type": "markdown",
   "metadata": {},
   "source": [
    "#### F) Add Storage units ( Battery(Energy-to-power ratio:6 hours), Hydrogen) "
   ]
  },
  {
   "cell_type": "code",
   "execution_count": 127,
   "metadata": {},
   "outputs": [],
   "source": [
    "n.add(\n",
    "    \"StorageUnit\",\n",
    "    \"battery storage\",\n",
    "    bus='electricity',\n",
    "    carrier=\"battery storage\",\n",
    "    max_hours=6,\n",
    "    capital_cost=costs.at[\"battery inverter\", \"capital_cost\"] + 6 * costs.at[\"battery storage\", \"capital_cost\"],\n",
    "    efficiency_store=costs.at[\"battery inverter\", \"efficiency\"],\n",
    "    efficiency_dispatch=costs.at[\"battery inverter\", \"efficiency\"],\n",
    "    p_nom_extendable=True,\n",
    "    cyclic_state_of_charge=True,\n",
    ")"
   ]
  },
  {
   "attachments": {},
   "cell_type": "markdown",
   "metadata": {},
   "source": [
    "Second, the hydrogen storage. This one is composed of an electrolysis to convert electricity to hydrogen, a fuel cell to re-convert hydrogen to electricity and underground storage (e.g. in salt caverns). We assume an energy-to-power ratio of 168 hours, such that this type of storage can be used for weekly balancing."
   ]
  },
  {
   "cell_type": "code",
   "execution_count": null,
   "metadata": {},
   "outputs": [],
   "source": []
  },
  {
   "cell_type": "code",
   "execution_count": null,
   "metadata": {},
   "outputs": [],
   "source": [
    "n.plot(bus_sizes=0.01, margin=3);"
   ]
  },
  {
   "cell_type": "code",
   "execution_count": null,
   "metadata": {},
   "outputs": [],
   "source": [
    "n.generators_t.p"
   ]
  },
  {
   "cell_type": "code",
   "execution_count": null,
   "metadata": {},
   "outputs": [],
   "source": [
    "n.buses_t.marginal_price"
   ]
  },
  {
   "cell_type": "code",
   "execution_count": null,
   "metadata": {},
   "outputs": [],
   "source": [
    "s = n.loads.groupby('bus').p_set.sum() / 1e4"
   ]
  },
  {
   "cell_type": "code",
   "execution_count": null,
   "metadata": {},
   "outputs": [],
   "source": [
    "n.generators_t.p.loc[\"now\"]"
   ]
  },
  {
   "cell_type": "code",
   "execution_count": null,
   "metadata": {},
   "outputs": [],
   "source": [
    "n.generators.groupby(\"carrier\").p_nom.sum().div(1e3).plot.bar()\n",
    "plt.ylabel('GW')"
   ]
  }
 ],
 "metadata": {
  "kernelspec": {
   "display_name": "Python 3.10.11 ('pypsa-eur')",
   "language": "python",
   "name": "python3"
  },
  "language_info": {
   "codemirror_mode": {
    "name": "ipython",
    "version": 3
   },
   "file_extension": ".py",
   "mimetype": "text/x-python",
   "name": "python",
   "nbconvert_exporter": "python",
   "pygments_lexer": "ipython3",
   "version": "3.10.11"
  },
  "orig_nbformat": 4,
  "vscode": {
   "interpreter": {
    "hash": "dbb1f01fbb8deb0d826635157f8862bbf02a988c376ba856d5d2ac12cd6408ad"
   }
  }
 },
 "nbformat": 4,
 "nbformat_minor": 2
}
